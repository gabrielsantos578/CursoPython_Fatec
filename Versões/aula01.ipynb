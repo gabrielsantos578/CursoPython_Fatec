{
  "cells": [
    {
      "cell_type": "markdown",
      "metadata": {
        "id": "1I9sLe5qMsM2"
      },
      "source": [
        "# Aula01 - Introdução ao Python\n",
        "\n",
        "## Python\n",
        "\n",
        "Python é uma linguagem de programação interpretada, orientada a objetos, de alto nível e com semântica dinâmica. A simplicidade do python reduz a manutenção de um programa.\n",
        "A linguagem suporta módulos e pacotes, que encoraja a modularização e o reuso de códigos.\n",
        "\n",
        "É uma das linguagens  que mais tem crescido devido a sua compatibilidade e capacidade de auxiliar outras linguagens, é também um das  linguagens mais populares entre a comundade de análise de dados e a comunidade cientifica.\n",
        "\n",
        "## História do Python\n",
        "\n",
        "A linguagem Python foi criada em 1990 por Guido Van Rossum no Centro de Matemática Stichting (CWI - http://www.cwi.nl) na Holanda como sucessora da linguagem ABC. Guido é lembrado como o principal autor do Python, mas outros programadores ajudaram com muitas contribuições.\n",
        "\n",
        "A linguagem ABC foi desenhada para o uso de não programadores, mas logo de início mostrou certas limitações e restrições, a grande reclamação era a presença de regras arbitrárias que geralmente eram utilizadas em linguagens de baixo nível.\n",
        "\n",
        "O Python surigiu para que fosse uma linguagem simples que possuísse algumas das melhores propriedades da linguagem ABC. Listas, dicionários, declarações básicas e uso obrigatório de identação diferenciam a linguagem Python da linguagem ABC.\n",
        "\n",
        "Em 1995, Guido continuou seu trabalho em Python na Corporation for National Research Initiatives (CNRI, http://cnri.reston.va.us). Em 2000 o time de desenvolvimento da linguagem foram para a BeOpen Python Labs (http://beopen.com), no mesmo ano mudaram-se para a Digital Creations, hoje Zope Corporation (http://www.zope.org).\n",
        "\n",
        "Em 2001 foi fundada a Python Software Fundation (PSF - http://www.python.org/psf/), uma organização sem fins lucrativos fundada para manter a lingaugem e hoje detem sua propriedade intelectual.\n",
        "\n",
        "Todos os lançamentos de novos releases da linguagem Python são de código aberto."
      ]
    },
    {
      "cell_type": "markdown",
      "metadata": {
        "id": "stgpsV9pMsM5"
      },
      "source": [
        "![Python](img/python.jpeg)"
      ]
    },
    {
      "cell_type": "markdown",
      "metadata": {
        "id": "_I7I-7C7MsM5"
      },
      "source": [
        "## Interpretador\n",
        "\n",
        "Você já deve ter ouvido falar que a linguagem Python é interpretada ou uma linguagem de script. em certo sentido pode-se afirmar que é uma linguagem interpretada, mas na verdade a forma de execução de programas python atualmente assemelha-se a forma de execução da linguagem Java.\n",
        "\n",
        "O interpretador faz a tradução em tempo real para código de máquina, ou seja, em tempo de execução. Já um compilador traduz o programa inteiro em código de máquina em uma única vez, gerando um relatório de erros caso existam ou gerando o programa que pode ser rodado (executável).\n",
        "\n",
        "O  Python é uma linguagem interpretada mas como o Java, passa por um processo de compilação gerando um bytecode e depois é interpretado por uma máquina virtual.\n",
        "\n",
        "## É possível compilar o Python ?\n",
        "\n",
        "Existem implementações de compiladores para Python como o Cpython, Cython, Jython, IronPython ou PyPy. A diferença entre elas é o compilador.\n",
        "\n",
        "o Cpython é o compilador oficial da linguagem Python quando você a utiliza por padrão. O Cython converte a linguagem Python para C++e utiliza o compilador desta linguagem para gerar o executável, mas para ser eficiente deve adaptar o código python original.\n",
        "\n",
        "O Jython gera bytecode a partir do Python para ser executado na JVM (Java Virtual Machine) e o IronPython em uma máquina virtual .Net.\n",
        "\n",
        "O PyPy é uma implmentação escrita em python que possui uma Virtual Machine Python sendo mais veloz que o CPython origianl e vem com a tecnologia JIT (Just in Time) que já traduz o código fonte em linguagem de máquina.\n",
        "\n",
        "## Modo Script ou Interativo\n",
        "\n",
        "Para utilizar o modo interativo você deve abrir o terminal do seu sistema operacional e rodar o python. Por exemplo:\n",
        "\n",
        "**C:\\python**\n",
        "\n",
        "Você terá acesso ao prompt do Python para a digitação de suas instruções:\n",
        "\n",
        "![Prompt Python](img/python_prompt.jpg)\n",
        "\n",
        "No modo script você pode utilizar qualquer editor de texto para escrever o seu código python gerando um arquivo com a extensão .py. Pode utilizar qualquer IDE que desejar como o PyCharm, VSCode, Spyder entre outras existentes no mercado.\n"
      ]
    },
    {
      "cell_type": "code",
      "execution_count": 1,
      "metadata": {
        "id": "6-i-wGSLMsM6",
        "colab": {
          "base_uri": "https://localhost:8080/"
        },
        "outputId": "1cac62d4-44b1-4117-cd45-6d8d483381f0"
      },
      "outputs": [
        {
          "output_type": "stream",
          "name": "stdout",
          "text": [
            "0\n",
            "1\n",
            "2\n",
            "3\n",
            "4\n"
          ]
        }
      ],
      "source": [
        "for x in range(5):\n",
        "    print(x)"
      ]
    },
    {
      "cell_type": "markdown",
      "metadata": {
        "id": "6AhDIYRUMsM7"
      },
      "source": [
        "## Introdução as declarações em Python\n",
        "\n",
        "faremos uma rápida visão geral das declarações do Python. Esta palestra enfatizará as diferenças entre Python e outros idiomas, como o C++. \n",
        "\n",
        "Existem duas razões pelas quais tomamos essa abordagem para aprender o contexto das declarações de Python:\n",
        "\n",
        "    1) Se você vem de uma linguagem diferente, isso acelerará rapidamente sua compreensão sobre o Python. \n",
        "\n",
        "    2) Aprender sobre declarações permitirá que você possa ler outras linguagens com mais facilidade no futuro.\n",
        "\n",
        "# Python vs outras linguagens\n",
        "\n",
        "Vamos criar uma declaração simples que diga: Se a é maior que b, atribua 2 a \"a\" e 4 a \"b\"\n",
        "\n",
        "Veja essas duas afirmações if (a frente veremos melhor a sintaxe do if):\n",
        "\n",
        "Outras Linguagens:\n",
        "\n",
        "if (a > b) {\n",
        "    a=2;\n",
        "    b=4;\n",
        "} \n",
        "\n",
        "em Python:\n",
        "\n",
        "if a > b:\n",
        "    a=2\n",
        "    b=4\n",
        "\n",
        "Você notará que o Python está menos confuso e muito mais legível do que a primeira versão.\n",
        "\n",
        "Como o Python gerencia isso ?\n",
        "\n",
        "Vejamos as diferenças:\n",
        "    O Python se livra de () - parenteses e {} - chaves incorporando dois fatores principais: os \":\"  - dois pontos e os espaços em branco.\n",
        "\n",
        "    A declaração é terminada com dois pontos e o espaço em branco é usado (recuo) para descrever o que ocorre no caso da declaração.\n",
        "    \n",
        "    Outra grande diferença é a falta de ponto e vírgula em Python. Eles são usados p​ ara denotar terminações de declaração em muitos outros idiomas, mas em Python, o final de uma linha é o mesmo que o final de uma declaração.\n",
        "    \n",
        "    Por fim, para terminar esta breve visão geral das diferenças, vamos examinar mais de perto a sintaxe de indentação em Python vs outras linguagens.\n",
        "\n",
        "# Indentação\n",
        "\n",
        "O Python é fortemente impulsionado por indentação de código e espaço em branco. Isso significa que a legibilidade do código é uma parte essencial do design da linguagem.\n",
        "\n"
      ]
    },
    {
      "cell_type": "markdown",
      "metadata": {
        "id": "i-J0vme6MsM8"
      },
      "source": [
        "## Números\n",
        "\n",
        "# Tipos de números\n",
        "\n",
        "Python tem vários \"tipos\" de números (literais numéricos). Nós nos concentraremos principalmente em números inteiros e números de ponto flutuante.\n",
        "\n",
        "Inteiros são apenas números inteiros, positivos ou negativos. Por exemplo: 2 e -2 são exemplos de números inteiros.\n",
        "\n",
        "Os números de pontos flutuantes em Python são notáveis porque eles têm um ponto decimal neles, ou usam uma exponencial (e) para definir o número. Por exemplo, 2.0 e -2.1 são exemplos de números de ponto flutuante. 4E2 (4 vezes 10 para o poder de 2) também é um exemplo de um número de ponto flutuante em Python.\n",
        "\n",
        "Ao longo deste curso, trabalharemos principalmente com números inteiros ou tipos simples de números de flutuação.\n",
        "\n",
        "Aqui está uma tabela dos dois tipos principais que passaremos a maior parte do tempo trabalhando com alguns exemplos:\n",
        "\n",
        "|Exemplo   |Tipo   |\n",
        "|---|---|\n",
        "|1,2, -5, 1000   | números inteiros  |\n",
        "|1.2, -0.5, 2e2. 3E2 | números ponto flutuante  |\n",
        "\n",
        "\n",
        "# Operadores Matemáticos\n",
        "\n",
        "|Exemplo   |Descrição   | Exemplo |\n",
        "|---|---|---|\n",
        "| + | Soma  | 5+5 = 10 |\n",
        "| - | Substração  | 7-2 = 5 |\n",
        "| * | Multiplicação  | 2*2 = 4 |\n",
        "| / | Divisão  | 4/2 = 2 |\n",
        "| % | Resto  | 10%3 = 1 |\n",
        "| ** | Potência  | 4**2 = 16 |\n",
        "\n",
        "Exemplos:"
      ]
    },
    {
      "cell_type": "code",
      "execution_count": 2,
      "metadata": {
        "id": "i-U4vA1zMsM8",
        "colab": {
          "base_uri": "https://localhost:8080/"
        },
        "outputId": "b2699563-26db-4bb9-85ac-4c820d172d35"
      },
      "outputs": [
        {
          "output_type": "execute_result",
          "data": {
            "text/plain": [
              "3"
            ]
          },
          "metadata": {},
          "execution_count": 2
        }
      ],
      "source": [
        "2+1 #soma"
      ]
    },
    {
      "cell_type": "code",
      "execution_count": 3,
      "metadata": {
        "id": "UVYrXDUYMsM8",
        "colab": {
          "base_uri": "https://localhost:8080/"
        },
        "outputId": "db243c37-78ce-47d5-931c-23a7e2e2cda1"
      },
      "outputs": [
        {
          "output_type": "execute_result",
          "data": {
            "text/plain": [
              "1"
            ]
          },
          "metadata": {},
          "execution_count": 3
        }
      ],
      "source": [
        "2-1 #substração"
      ]
    },
    {
      "cell_type": "code",
      "execution_count": 4,
      "metadata": {
        "id": "AC1OJWAKMsM8",
        "colab": {
          "base_uri": "https://localhost:8080/"
        },
        "outputId": "422773cb-077f-441c-d682-9180419dde4b"
      },
      "outputs": [
        {
          "output_type": "execute_result",
          "data": {
            "text/plain": [
              "4"
            ]
          },
          "metadata": {},
          "execution_count": 4
        }
      ],
      "source": [
        "2*2 #multiplicação"
      ]
    },
    {
      "cell_type": "code",
      "execution_count": 5,
      "metadata": {
        "id": "AATlDB6NMsM9",
        "colab": {
          "base_uri": "https://localhost:8080/"
        },
        "outputId": "f378e9bb-cd77-4b1d-e148-a735c9b8f248"
      },
      "outputs": [
        {
          "output_type": "execute_result",
          "data": {
            "text/plain": [
              "1.5"
            ]
          },
          "metadata": {},
          "execution_count": 5
        }
      ],
      "source": [
        "3/2 #divisão"
      ]
    },
    {
      "cell_type": "code",
      "execution_count": 6,
      "metadata": {
        "id": "KTi8DDYtMsM9",
        "colab": {
          "base_uri": "https://localhost:8080/"
        },
        "outputId": "0e927755-f6be-4b12-d303-046d89e5f9c4"
      },
      "outputs": [
        {
          "output_type": "execute_result",
          "data": {
            "text/plain": [
              "1.5"
            ]
          },
          "metadata": {},
          "execution_count": 6
        }
      ],
      "source": [
        "3.0/2 #divisão com um nro float "
      ]
    },
    {
      "cell_type": "code",
      "execution_count": 7,
      "metadata": {
        "id": "7wJBs5yiMsM9",
        "colab": {
          "base_uri": "https://localhost:8080/"
        },
        "outputId": "0ec999b0-ee34-4fde-e211-0811c18c0770"
      },
      "outputs": [
        {
          "output_type": "execute_result",
          "data": {
            "text/plain": [
              "1.5"
            ]
          },
          "metadata": {},
          "execution_count": 7
        }
      ],
      "source": [
        "3/2.0 #funciona com qualquer combinação"
      ]
    },
    {
      "cell_type": "code",
      "execution_count": 8,
      "metadata": {
        "id": "e_jm66fKMsM9",
        "colab": {
          "base_uri": "https://localhost:8080/"
        },
        "outputId": "bb634f1d-bcf6-40bc-a374-79e1224a4b9b"
      },
      "outputs": [
        {
          "output_type": "execute_result",
          "data": {
            "text/plain": [
              "8"
            ]
          },
          "metadata": {},
          "execution_count": 8
        }
      ],
      "source": [
        "2**3 #potência"
      ]
    },
    {
      "cell_type": "code",
      "execution_count": 9,
      "metadata": {
        "id": "oneNDcrtMsM-",
        "colab": {
          "base_uri": "https://localhost:8080/"
        },
        "outputId": "9de8843a-b920-49e6-c29c-d4fc31768c42"
      },
      "outputs": [
        {
          "output_type": "execute_result",
          "data": {
            "text/plain": [
              "105"
            ]
          },
          "metadata": {},
          "execution_count": 9
        }
      ],
      "source": [
        "2 + 10 * 10 + 3 #ordem dos operadores igual na matemática"
      ]
    },
    {
      "cell_type": "code",
      "execution_count": 10,
      "metadata": {
        "id": "_vPJ_FJQMsM-",
        "colab": {
          "base_uri": "https://localhost:8080/"
        },
        "outputId": "349f8c9a-b8d3-4a28-8f6b-64975bd8caf6"
      },
      "outputs": [
        {
          "output_type": "execute_result",
          "data": {
            "text/plain": [
              "156"
            ]
          },
          "metadata": {},
          "execution_count": 10
        }
      ],
      "source": [
        "(2+10) * (10+3) #uso de parenteses para definir a ordem no calculo."
      ]
    },
    {
      "cell_type": "code",
      "source": [
        "5+2/2*3+1"
      ],
      "metadata": {
        "colab": {
          "base_uri": "https://localhost:8080/"
        },
        "id": "B06UaeP_UPam",
        "outputId": "40303b82-cc23-4a53-e0cc-4cd7df8831b6"
      },
      "execution_count": 11,
      "outputs": [
        {
          "output_type": "execute_result",
          "data": {
            "text/plain": [
              "9.0"
            ]
          },
          "metadata": {},
          "execution_count": 11
        }
      ]
    },
    {
      "cell_type": "markdown",
      "metadata": {
        "id": "HBpc6Ru4MsM-"
      },
      "source": [
        "## Atribuição de Variáveis\n",
        "\n",
        "Agora que vimos como usar números em Python como calculadora, vejamos como podemos atribuir nomes e criar variáveis.\n",
        "\n",
        "Usamos um único sinal de igual para atribuir rótulos às variáveis. Vejamos alguns exemplos de como podemos fazer isso."
      ]
    },
    {
      "cell_type": "code",
      "execution_count": 13,
      "metadata": {
        "id": "ur12EWNlMsM-"
      },
      "outputs": [],
      "source": [
        "a=5 #atribuição"
      ]
    },
    {
      "cell_type": "markdown",
      "metadata": {
        "id": "fAkDzEvfMsM-"
      },
      "source": [
        "Agora, eu chamarmos \"a\" no meu script python, a linguagem tratará isso como o número 5"
      ]
    },
    {
      "cell_type": "code",
      "execution_count": 14,
      "metadata": {
        "id": "SOPLyNYqMsM_",
        "colab": {
          "base_uri": "https://localhost:8080/"
        },
        "outputId": "cbbc153e-fc2a-4c8a-e762-822b9408c3d9"
      },
      "outputs": [
        {
          "output_type": "execute_result",
          "data": {
            "text/plain": [
              "10"
            ]
          },
          "metadata": {},
          "execution_count": 14
        }
      ],
      "source": [
        "a+a"
      ]
    },
    {
      "cell_type": "markdown",
      "metadata": {
        "id": "2jSofqJyMsM_"
      },
      "source": [
        "O que acontece na redefinição ? Python nos deixa escrever sobre os valores anterior ?"
      ]
    },
    {
      "cell_type": "code",
      "execution_count": 15,
      "metadata": {
        "id": "21NtjI4gMsM_"
      },
      "outputs": [],
      "source": [
        "a = 10 #sobrescrever"
      ]
    },
    {
      "cell_type": "code",
      "execution_count": 16,
      "metadata": {
        "id": "klbBtw_4MsM_",
        "colab": {
          "base_uri": "https://localhost:8080/"
        },
        "outputId": "e4a6f8cc-23a0-4a12-c0de-591fb97c3037"
      },
      "outputs": [
        {
          "output_type": "execute_result",
          "data": {
            "text/plain": [
              "10"
            ]
          },
          "metadata": {},
          "execution_count": 16
        }
      ],
      "source": [
        "a #checando"
      ]
    },
    {
      "cell_type": "code",
      "execution_count": 17,
      "metadata": {
        "id": "xlt2cuyUMsNA"
      },
      "outputs": [],
      "source": [
        "a = a + a #usando a para definir a"
      ]
    },
    {
      "cell_type": "markdown",
      "metadata": {
        "id": "JSmtG9S_MsNA"
      },
      "source": [
        "Os nomes que você usa ao criar esses rótulos precisam seguir algumas regras:\n",
        "\n",
        "1. Os nomes não podem começar com um número.\n",
        "\n",
        "2. Não pode haver espaços no nome. Use _ em vez disso. \n",
        "\n",
        "3. Não é possível usar nenhum desses símbolos: '\", <> /? | \\ ()! @ # $% ^ & * ~ - + \n",
        "\n",
        "4. É considerada a melhor prática (PEP8) que os nomes são minúsculos.\n",
        "\n",
        " Extra: É uma boa pátrica criar as variáveis em inglês.\n",
        "\n",
        "Usar nomes de variáveis pode ser uma maneira muito útil de acompanhar diferentes variáveis em Python. Por exemplo:"
      ]
    },
    {
      "cell_type": "code",
      "execution_count": null,
      "metadata": {
        "id": "XoRWxM8GMsNA"
      },
      "outputs": [],
      "source": [
        "#usar nomes de objetos para manter uma melhor relação com o que esta acontecendo\n",
        "my_income = 100\n",
        "tax_rate=0.1\n",
        "my_taxes = my_income*tax_rate"
      ]
    },
    {
      "cell_type": "code",
      "execution_count": null,
      "metadata": {
        "id": "wD5CBXZuMsNA"
      },
      "outputs": [],
      "source": [
        "my_taxes #mostra  as taxas"
      ]
    },
    {
      "cell_type": "markdown",
      "metadata": {
        "id": "kzbJy-yJMsNA"
      },
      "source": [
        "Então, o que aprendemos? Aprendemos alguns dos conceitos básicos dos números emPython. Também aprendemos a fazer aritmética e usar Python como uma calculadora básica. Em seguida, o envolvemos com o aprendizado sobre a atribuição variável em Python.\n",
        "\n",
        "Em seguida, aprenderemos sobre Strings!"
      ]
    },
    {
      "cell_type": "markdown",
      "metadata": {
        "id": "k8cI-kJgMsNB"
      },
      "source": [
        "## Strings\n",
        "\n",
        "As strings são usadas em Python para registrar informações de texto, como nome. As cordas em Python são na verdade uma seqüência, o que basicamente significa que o Python acompanha cada elemento da seqüência de caracteres como uma seqüência. Por exemplo, Python entende a string \"hello\" como uma seqüência de letras em uma ordem específica. Isso significa que poderemos usar a indexação para pegar letras particulares (como a primeira letra ou a última letra).\n",
        "\n",
        "Essa idéia de uma seqüência é importante em Python e nós vamos abordá-la mais tarde.\n",
        "\n",
        "Nesta palestra, aprenderemos os seguintes tópicos:\n",
        "\n",
        "1. Criando Strings\n",
        "\n",
        "2. Impressão de coStringsrdas\n",
        "\n",
        "3. Indexação e corte de strings\n",
        "\n",
        "4. Propriedades da Cadeia de Caracteres\n",
        "\n",
        "5. Métodos de Strings\n",
        "\n",
        "6. Formatação de impressão\n",
        "\n",
        "# Criando uma String\n",
        "\n",
        "Para criar uma string em Python, você precisa usar aspas simples ou aspas duplas. Por exemplo:"
      ]
    },
    {
      "cell_type": "code",
      "execution_count": null,
      "metadata": {
        "id": "dFmuJjuZMsNB"
      },
      "outputs": [],
      "source": [
        "#uma palavra\n",
        "'hello'"
      ]
    },
    {
      "cell_type": "code",
      "execution_count": null,
      "metadata": {
        "id": "rOthXSE3MsNB"
      },
      "outputs": [],
      "source": [
        "#uma frase inteira\n",
        "'This is also a string'"
      ]
    },
    {
      "cell_type": "code",
      "execution_count": null,
      "metadata": {
        "id": "QuTMvGxCMsNB"
      },
      "outputs": [],
      "source": [
        "#também é possível com aspas duplas\n",
        "\"string built with double quotes\""
      ]
    },
    {
      "cell_type": "markdown",
      "metadata": {
        "id": "XynFlK4zMsNB"
      },
      "source": [
        "## Imprimindo uma String\n",
        "\n",
        "Usando o Jupyter Notebook com apenas uma seqüência de caracteres em uma célula emitirá automaticamente cadeias de caracteres, mas a maneira correta de exibir cadeias na sua saída é usando uma função de impressão."
      ]
    },
    {
      "cell_type": "code",
      "execution_count": null,
      "metadata": {
        "id": "5aPHkQ1QMsNC"
      },
      "outputs": [],
      "source": [
        "#podemos simplesmente declarar uma string\n",
        "'Hello World'"
      ]
    },
    {
      "cell_type": "code",
      "execution_count": 20,
      "metadata": {
        "id": "wCwjm0AKMsNC",
        "colab": {
          "base_uri": "https://localhost:8080/",
          "height": 35
        },
        "outputId": "eee0d78c-e468-4abf-9c11-99e401f4f6ff"
      },
      "outputs": [
        {
          "output_type": "execute_result",
          "data": {
            "text/plain": [
              "'Hello World 2'"
            ],
            "application/vnd.google.colaboratory.intrinsic+json": {
              "type": "string"
            }
          },
          "metadata": {},
          "execution_count": 20
        }
      ],
      "source": [
        "#note que podemos imprimir várias strings assim\n",
        "'Hello World 1'\n",
        "'Hello World 2'"
      ]
    },
    {
      "cell_type": "markdown",
      "metadata": {
        "id": "HJ5deuaMMsNC"
      },
      "source": [
        "Mas a maneira correta (inclusive utilizando IDE's) é utilizar o método print()."
      ]
    },
    {
      "cell_type": "code",
      "execution_count": 18,
      "metadata": {
        "id": "pYjR6XKMMsNC",
        "colab": {
          "base_uri": "https://localhost:8080/"
        },
        "outputId": "f64fde60-7240-435c-9ec5-ea298683d553"
      },
      "outputs": [
        {
          "output_type": "stream",
          "name": "stdout",
          "text": [
            "Hello World 1\n",
            "Hello World 2\n",
            "Use \n",
            " to print a new line\n",
            "\n",
            "\n",
            "See what I mean?\n"
          ]
        }
      ],
      "source": [
        "print('Hello World 1')\n",
        "print('Hello World 2')\n",
        "print('Use \\n to print a new line')\n",
        "print('\\n')\n",
        "print('See what I mean?')"
      ]
    },
    {
      "cell_type": "markdown",
      "metadata": {
        "id": "39e1x4QQMsNC"
      },
      "source": [
        "Nós também podemos usar uma função chamada len() para verificar o comprimento de uma string!"
      ]
    },
    {
      "cell_type": "code",
      "execution_count": 21,
      "metadata": {
        "id": "DLdeaSxXMsND",
        "colab": {
          "base_uri": "https://localhost:8080/"
        },
        "outputId": "bd516c07-8892-466d-cd12-2768d91daf21"
      },
      "outputs": [
        {
          "output_type": "execute_result",
          "data": {
            "text/plain": [
              "11"
            ]
          },
          "metadata": {},
          "execution_count": 21
        }
      ],
      "source": [
        "len('Hello World')"
      ]
    },
    {
      "cell_type": "markdown",
      "metadata": {
        "id": "WJ0r_zFkMsND"
      },
      "source": [
        "## Indexação em Strings\n",
        "\n",
        "Sabemos que as strings são uma seqüência, o que significa que o Python pode usar índices para chamar partes da seqüência. Vamos aprender como isso funciona.\n",
        "\n",
        "Em Python, usamos colchetes [] após um objeto para chamar seu índice. \n",
        "\n",
        "Devemos também notar que a indexação começa em 0 para Python. Vamos criar um novo objeto chamado \"s\" e a caminharmos através de alguns exemplos de indexação."
      ]
    },
    {
      "cell_type": "code",
      "execution_count": 42,
      "metadata": {
        "id": "jPmP7XycMsND"
      },
      "outputs": [],
      "source": [
        "#define \"s\" como uma string\n",
        "s = 'Hello World'"
      ]
    },
    {
      "cell_type": "code",
      "execution_count": 23,
      "metadata": {
        "id": "Cv-2bC9ZMsND",
        "colab": {
          "base_uri": "https://localhost:8080/",
          "height": 35
        },
        "outputId": "b4da9dcf-b5aa-4e5b-c9ff-131214ffdc30"
      },
      "outputs": [
        {
          "output_type": "execute_result",
          "data": {
            "text/plain": [
              "'Hello World'"
            ],
            "application/vnd.google.colaboratory.intrinsic+json": {
              "type": "string"
            }
          },
          "metadata": {},
          "execution_count": 23
        }
      ],
      "source": [
        "#checa \n",
        "s"
      ]
    },
    {
      "cell_type": "code",
      "execution_count": 24,
      "metadata": {
        "id": "4WkANGD9MsND",
        "colab": {
          "base_uri": "https://localhost:8080/"
        },
        "outputId": "ffad9f76-2e94-42e6-efba-c1ed32777a91"
      },
      "outputs": [
        {
          "output_type": "stream",
          "name": "stdout",
          "text": [
            "Hello World\n"
          ]
        }
      ],
      "source": [
        "#imprime o conteudo do objeto\n",
        "print(s)"
      ]
    },
    {
      "cell_type": "markdown",
      "metadata": {
        "id": "oAhzdN1UMsNE"
      },
      "source": [
        "Ok! Vamos verificar o conteúdo da String de forma indexada."
      ]
    },
    {
      "cell_type": "code",
      "execution_count": 25,
      "metadata": {
        "id": "e6KNLfUrMsNE",
        "colab": {
          "base_uri": "https://localhost:8080/",
          "height": 35
        },
        "outputId": "d640acac-92db-4621-b0fb-2a47271ff01d"
      },
      "outputs": [
        {
          "output_type": "execute_result",
          "data": {
            "text/plain": [
              "'H'"
            ],
            "application/vnd.google.colaboratory.intrinsic+json": {
              "type": "string"
            }
          },
          "metadata": {},
          "execution_count": 25
        }
      ],
      "source": [
        "#Mostra o primeiro elemento (neste caso uma letra)\n",
        "s[0]"
      ]
    },
    {
      "cell_type": "code",
      "execution_count": 26,
      "metadata": {
        "id": "D-8mJGbmMsNE",
        "colab": {
          "base_uri": "https://localhost:8080/",
          "height": 35
        },
        "outputId": "733c35e6-bd19-42dd-8df9-0fb54032f49b"
      },
      "outputs": [
        {
          "output_type": "execute_result",
          "data": {
            "text/plain": [
              "'e'"
            ],
            "application/vnd.google.colaboratory.intrinsic+json": {
              "type": "string"
            }
          },
          "metadata": {},
          "execution_count": 26
        }
      ],
      "source": [
        "#posicao 1\n",
        "s[1]"
      ]
    },
    {
      "cell_type": "markdown",
      "metadata": {
        "id": "ePYVIIGFMsNE"
      },
      "source": [
        "Podemos usar um \":\" para executar um corte que pega tudo até um ponto designado. Por exemplo:"
      ]
    },
    {
      "cell_type": "code",
      "execution_count": 27,
      "metadata": {
        "id": "jdBWv_L5MsNE",
        "colab": {
          "base_uri": "https://localhost:8080/",
          "height": 35
        },
        "outputId": "56bea21b-fce0-428b-aa26-76ea42c79dd5"
      },
      "outputs": [
        {
          "output_type": "execute_result",
          "data": {
            "text/plain": [
              "'ello World'"
            ],
            "application/vnd.google.colaboratory.intrinsic+json": {
              "type": "string"
            }
          },
          "metadata": {},
          "execution_count": 27
        }
      ],
      "source": [
        "# Retorna todos elementos a partir do elemento de indice 1\n",
        "s[1:]"
      ]
    },
    {
      "cell_type": "code",
      "execution_count": 28,
      "metadata": {
        "id": "kb2SOqJrMsNE",
        "colab": {
          "base_uri": "https://localhost:8080/",
          "height": 35
        },
        "outputId": "68747056-590e-4462-ac47-b1a95bbe5742"
      },
      "outputs": [
        {
          "output_type": "execute_result",
          "data": {
            "text/plain": [
              "'H'"
            ],
            "application/vnd.google.colaboratory.intrinsic+json": {
              "type": "string"
            }
          },
          "metadata": {},
          "execution_count": 28
        }
      ],
      "source": [
        "# repare que não houve mudanças no primeiro elemento [0]\n",
        "s[0]"
      ]
    },
    {
      "cell_type": "code",
      "execution_count": 29,
      "metadata": {
        "id": "3U9-8iXaMsNF",
        "colab": {
          "base_uri": "https://localhost:8080/",
          "height": 35
        },
        "outputId": "58c79556-c3c9-451f-9a76-e0f5c5875a30"
      },
      "outputs": [
        {
          "output_type": "execute_result",
          "data": {
            "text/plain": [
              "'Hel'"
            ],
            "application/vnd.google.colaboratory.intrinsic+json": {
              "type": "string"
            }
          },
          "metadata": {},
          "execution_count": 29
        }
      ],
      "source": [
        "# retorna utdo até o elemento de índice 3 (não incluso)\n",
        "s[:3]"
      ]
    },
    {
      "cell_type": "markdown",
      "metadata": {
        "id": "-dAdRhKMMsNF"
      },
      "source": [
        "Observe o corte acima. Aqui, estamos dizendo ao Python que pegue tudo de 0 a 3. Não inclui o 3º índice. Você notará muito isso em Python, onde as declarações e geralmente são no contexto \"até, mas não incluindo\"."
      ]
    },
    {
      "cell_type": "code",
      "execution_count": 30,
      "metadata": {
        "id": "ImjixizgMsNF",
        "colab": {
          "base_uri": "https://localhost:8080/",
          "height": 35
        },
        "outputId": "fe14810a-8069-4194-9a07-a9d706c94d26"
      },
      "outputs": [
        {
          "output_type": "execute_result",
          "data": {
            "text/plain": [
              "'Hello World'"
            ],
            "application/vnd.google.colaboratory.intrinsic+json": {
              "type": "string"
            }
          },
          "metadata": {},
          "execution_count": 30
        }
      ],
      "source": [
        "#tudo\n",
        "s[:]"
      ]
    },
    {
      "cell_type": "markdown",
      "metadata": {
        "id": "dXFWwUggMsNF"
      },
      "source": [
        "Também podemos usar indexação negativa para retroceder."
      ]
    },
    {
      "cell_type": "code",
      "execution_count": 31,
      "metadata": {
        "id": "E_javuxOMsNF",
        "colab": {
          "base_uri": "https://localhost:8080/",
          "height": 35
        },
        "outputId": "4cf733a0-5520-4126-ae2f-bcafb2d341d7"
      },
      "outputs": [
        {
          "output_type": "execute_result",
          "data": {
            "text/plain": [
              "'d'"
            ],
            "application/vnd.google.colaboratory.intrinsic+json": {
              "type": "string"
            }
          },
          "metadata": {},
          "execution_count": 31
        }
      ],
      "source": [
        "# Última letra (um índice antes do 0, então ele começa da parte de trás)\n",
        "s[-1]"
      ]
    },
    {
      "cell_type": "code",
      "execution_count": 32,
      "metadata": {
        "id": "pFCJtpxqMsNG",
        "colab": {
          "base_uri": "https://localhost:8080/",
          "height": 35
        },
        "outputId": "588dfda7-47c9-4cfd-de24-4765f367bbad"
      },
      "outputs": [
        {
          "output_type": "execute_result",
          "data": {
            "text/plain": [
              "'Hello Worl'"
            ],
            "application/vnd.google.colaboratory.intrinsic+json": {
              "type": "string"
            }
          },
          "metadata": {},
          "execution_count": 32
        }
      ],
      "source": [
        "# Pega tudo, menos a última letra\n",
        "s[:-1]"
      ]
    },
    {
      "cell_type": "markdown",
      "metadata": {
        "id": "9FjKuvzkMsNG"
      },
      "source": [
        "Também podemos usar notação de índice e fatia para capturar elementos de uma seqüência com espaçamentos (o espaçamento padrão é 1). \n",
        "\n",
        "Por exemplo, podemos usar dois dois pontos em uma linha e, em seguida, um número que especifica a freqüência para capturar elementos. Por exemplo:"
      ]
    },
    {
      "cell_type": "code",
      "execution_count": 33,
      "metadata": {
        "id": "r7-8SXTYMsNG",
        "colab": {
          "base_uri": "https://localhost:8080/",
          "height": 35
        },
        "outputId": "89966fbc-41d7-4e9f-8718-d2c5205b4c83"
      },
      "outputs": [
        {
          "output_type": "execute_result",
          "data": {
            "text/plain": [
              "'Hello World'"
            ],
            "application/vnd.google.colaboratory.intrinsic+json": {
              "type": "string"
            }
          },
          "metadata": {},
          "execution_count": 33
        }
      ],
      "source": [
        "# Pega tudo, de 1 em 1\n",
        "s[::1]"
      ]
    },
    {
      "cell_type": "code",
      "execution_count": 34,
      "metadata": {
        "id": "EQrJSS-0MsNG",
        "colab": {
          "base_uri": "https://localhost:8080/",
          "height": 35
        },
        "outputId": "8dbc289b-3a1f-43a7-cfa3-0aaa5d502e17"
      },
      "outputs": [
        {
          "output_type": "execute_result",
          "data": {
            "text/plain": [
              "'HloWrd'"
            ],
            "application/vnd.google.colaboratory.intrinsic+json": {
              "type": "string"
            }
          },
          "metadata": {},
          "execution_count": 34
        }
      ],
      "source": [
        "# Pega tudo, mas os espaçamentos são de 2 em 2\n",
        "s[::2]"
      ]
    },
    {
      "cell_type": "code",
      "execution_count": 35,
      "metadata": {
        "id": "qY7Vf7M5MsNG",
        "colab": {
          "base_uri": "https://localhost:8080/",
          "height": 35
        },
        "outputId": "99dfc60b-b7d1-47b7-edf0-c79693424781"
      },
      "outputs": [
        {
          "output_type": "execute_result",
          "data": {
            "text/plain": [
              "'dlroW olleH'"
            ],
            "application/vnd.google.colaboratory.intrinsic+json": {
              "type": "string"
            }
          },
          "metadata": {},
          "execution_count": 35
        }
      ],
      "source": [
        "# Pega tudo, mas com passos negativos, de trás para frente.\n",
        "s[::-1]"
      ]
    },
    {
      "cell_type": "markdown",
      "metadata": {
        "id": "ckVEsta2MsNG"
      },
      "source": [
        "## Propriedades das Strings\n",
        "\n",
        "É importante notar que as strings têm uma propriedade importante conhecida como imutabilidade. Isso significa que, uma vez que uma string é criada, os elementos nele não podem ser alterados ou substituídos. Por exemplo:"
      ]
    },
    {
      "cell_type": "code",
      "execution_count": 36,
      "metadata": {
        "id": "PpfA8Gz7MsNH",
        "colab": {
          "base_uri": "https://localhost:8080/",
          "height": 35
        },
        "outputId": "9f7a0695-a865-488f-c99e-dbb56aa38968"
      },
      "outputs": [
        {
          "output_type": "execute_result",
          "data": {
            "text/plain": [
              "'Hello World'"
            ],
            "application/vnd.google.colaboratory.intrinsic+json": {
              "type": "string"
            }
          },
          "metadata": {},
          "execution_count": 36
        }
      ],
      "source": [
        "#mostra o conteudo de \"s\"\n",
        "s"
      ]
    },
    {
      "cell_type": "code",
      "execution_count": 37,
      "metadata": {
        "id": "2-fUsBjNMsNH",
        "colab": {
          "base_uri": "https://localhost:8080/",
          "height": 183
        },
        "outputId": "d3df695c-32a2-40e2-a818-585ca0823d64"
      },
      "outputs": [
        {
          "output_type": "error",
          "ename": "TypeError",
          "evalue": "ignored",
          "traceback": [
            "\u001b[0;31m---------------------------------------------------------------------------\u001b[0m",
            "\u001b[0;31mTypeError\u001b[0m                                 Traceback (most recent call last)",
            "\u001b[0;32m<ipython-input-37-bf1b55f1477a>\u001b[0m in \u001b[0;36m<cell line: 2>\u001b[0;34m()\u001b[0m\n\u001b[1;32m      1\u001b[0m \u001b[0;31m# Vamos tentar mudar a primeira letra para 'x'\u001b[0m\u001b[0;34m\u001b[0m\u001b[0;34m\u001b[0m\u001b[0m\n\u001b[0;32m----> 2\u001b[0;31m \u001b[0ms\u001b[0m\u001b[0;34m[\u001b[0m\u001b[0;36m0\u001b[0m\u001b[0;34m]\u001b[0m \u001b[0;34m=\u001b[0m \u001b[0;34m'x'\u001b[0m\u001b[0;34m\u001b[0m\u001b[0;34m\u001b[0m\u001b[0m\n\u001b[0m",
            "\u001b[0;31mTypeError\u001b[0m: 'str' object does not support item assignment"
          ]
        }
      ],
      "source": [
        "# Vamos tentar mudar a primeira letra para 'x'\n",
        "s[0] = 'x'"
      ]
    },
    {
      "cell_type": "markdown",
      "metadata": {
        "id": "QB-2DL5cMsNH"
      },
      "source": [
        "O código acima incorreu em um erro de execução devido a propriedade da imutabilidade.\n",
        "\n",
        "Observe como o erro nos diz diretamente o que não podemos fazer, alterar a atribuição do item!\n",
        "\n",
        "Algo que podemos fazer é concatenar strings!"
      ]
    },
    {
      "cell_type": "code",
      "execution_count": 43,
      "metadata": {
        "id": "X9Aoq_SzMsNH"
      },
      "outputs": [],
      "source": [
        "#Concatenando o conteudo de \"s\" com uma string e alterando seu conteúdo\n",
        "s = s+ \", conatenate me!\""
      ]
    },
    {
      "cell_type": "code",
      "execution_count": 44,
      "metadata": {
        "id": "bAJkBGp8MsNI",
        "colab": {
          "base_uri": "https://localhost:8080/"
        },
        "outputId": "859a5172-ff6b-46d0-f102-44493261ba5d"
      },
      "outputs": [
        {
          "output_type": "stream",
          "name": "stdout",
          "text": [
            "Hello World, conatenate me!\n"
          ]
        }
      ],
      "source": [
        "print(s)"
      ]
    },
    {
      "cell_type": "code",
      "execution_count": 45,
      "metadata": {
        "id": "PomUSPJgMsNI",
        "colab": {
          "base_uri": "https://localhost:8080/",
          "height": 35
        },
        "outputId": "7db02bc3-5d3f-410a-8a70-4e3608e902d8"
      },
      "outputs": [
        {
          "output_type": "execute_result",
          "data": {
            "text/plain": [
              "'Hello World, conatenate me!'"
            ],
            "application/vnd.google.colaboratory.intrinsic+json": {
              "type": "string"
            }
          },
          "metadata": {},
          "execution_count": 45
        }
      ],
      "source": [
        "s"
      ]
    },
    {
      "cell_type": "markdown",
      "metadata": {
        "id": "w2K-A3wDMsNI"
      },
      "source": [
        "Podemos utilizar o símbolo da multiplicação para criar repetições!"
      ]
    },
    {
      "cell_type": "code",
      "execution_count": 46,
      "metadata": {
        "id": "xuQyQOdMMsNI"
      },
      "outputs": [],
      "source": [
        "letter='z'"
      ]
    },
    {
      "cell_type": "code",
      "execution_count": 47,
      "metadata": {
        "id": "43GZ4D8VMsNI",
        "colab": {
          "base_uri": "https://localhost:8080/",
          "height": 35
        },
        "outputId": "20fe71e5-acb4-461b-b042-8cb781e94bae"
      },
      "outputs": [
        {
          "output_type": "execute_result",
          "data": {
            "text/plain": [
              "'zzzzzzzzzz'"
            ],
            "application/vnd.google.colaboratory.intrinsic+json": {
              "type": "string"
            }
          },
          "metadata": {},
          "execution_count": 47
        }
      ],
      "source": [
        "letter*10"
      ]
    },
    {
      "cell_type": "markdown",
      "metadata": {
        "id": "uobvRGSKMsNI"
      },
      "source": [
        "## Métodos embutidos em Strings\n",
        "\n",
        "Os objetos em Python geralmente possuem métodos internos. Esses métodos são funções dentro do objeto (aprenderemos sobre isso em muito mais profundidade depois) que podem executar ações ou comandos no próprio objeto.\n",
        "\n",
        "Chamamos métodos com um ponto e depois o nome do método. Os métodos estão na forma: \n",
        "\n",
        "objeto.método(parâmetros)\n",
        "\n",
        "\n",
        "Onde os parâmetros são argumentos extras que podemos passar para o método. \n",
        "\n",
        "Não se preocupe se os detalhes não fazem 100% de sentido agora. Mais tarde, criaremos nossos próprios objetos e funções!\n",
        "\n",
        "Aqui estão alguns exemplos de métodos internos em strings:"
      ]
    },
    {
      "cell_type": "code",
      "execution_count": 48,
      "metadata": {
        "id": "uujYmyb7MsNJ",
        "colab": {
          "base_uri": "https://localhost:8080/",
          "height": 35
        },
        "outputId": "b8ed169b-6a85-4322-eada-6947002e4e8f"
      },
      "outputs": [
        {
          "output_type": "execute_result",
          "data": {
            "text/plain": [
              "'HELLO WORLD, CONATENATE ME!'"
            ],
            "application/vnd.google.colaboratory.intrinsic+json": {
              "type": "string"
            }
          },
          "metadata": {},
          "execution_count": 48
        }
      ],
      "source": [
        "#coloca texto em caixa alta\n",
        "s.upper()"
      ]
    },
    {
      "cell_type": "code",
      "execution_count": 49,
      "metadata": {
        "id": "aMRK4dgYMsNJ",
        "colab": {
          "base_uri": "https://localhost:8080/",
          "height": 35
        },
        "outputId": "e09730a7-ac53-4905-ed7b-f79270705ba9"
      },
      "outputs": [
        {
          "output_type": "execute_result",
          "data": {
            "text/plain": [
              "'hello world, conatenate me!'"
            ],
            "application/vnd.google.colaboratory.intrinsic+json": {
              "type": "string"
            }
          },
          "metadata": {},
          "execution_count": 49
        }
      ],
      "source": [
        "#coloca o texto em caixa baixa\n",
        "s.lower()"
      ]
    },
    {
      "cell_type": "code",
      "execution_count": 50,
      "metadata": {
        "id": "ILs8TYwxMsNJ",
        "colab": {
          "base_uri": "https://localhost:8080/"
        },
        "outputId": "a61c399b-e5ba-4cd5-dca1-41107d90dbaf"
      },
      "outputs": [
        {
          "output_type": "execute_result",
          "data": {
            "text/plain": [
              "['Hello', 'World,', 'conatenate', 'me!']"
            ]
          },
          "metadata": {},
          "execution_count": 50
        }
      ],
      "source": [
        "#divide uma string nos espaços em branco (este é o padrão)\n",
        "s.split()"
      ]
    },
    {
      "cell_type": "code",
      "execution_count": 51,
      "metadata": {
        "id": "gbA7yFasMsNJ",
        "colab": {
          "base_uri": "https://localhost:8080/"
        },
        "outputId": "bb62d67c-32b1-402d-c1ed-972ecff5bd49"
      },
      "outputs": [
        {
          "output_type": "execute_result",
          "data": {
            "text/plain": [
              "['Hello ', 'orld, conatenate me!']"
            ]
          },
          "metadata": {},
          "execution_count": 51
        }
      ],
      "source": [
        "# Divide em um elemento específico \n",
        "#(não inclui o elemento que foi dividido)\n",
        "s.split('W')"
      ]
    },
    {
      "cell_type": "code",
      "source": [
        "dados = \"10;20;30;40;50;60;70;80;100\"\n",
        "dados.split(';')"
      ],
      "metadata": {
        "colab": {
          "base_uri": "https://localhost:8080/"
        },
        "id": "GqrK03F9blAh",
        "outputId": "9e4a31ac-71bf-4c10-fd15-ff1eff90933d"
      },
      "execution_count": 52,
      "outputs": [
        {
          "output_type": "execute_result",
          "data": {
            "text/plain": [
              "['10', '20', '30', '40', '50', '60', '70', '80', '100']"
            ]
          },
          "metadata": {},
          "execution_count": 52
        }
      ]
    },
    {
      "cell_type": "code",
      "execution_count": 53,
      "metadata": {
        "id": "hOr_NS0bMsNJ",
        "colab": {
          "base_uri": "https://localhost:8080/",
          "height": 35
        },
        "outputId": "1eb1597d-86e6-46cc-cfc0-859f338ff2cc"
      },
      "outputs": [
        {
          "output_type": "execute_result",
          "data": {
            "text/plain": [
              "'Hello world, conatenate me!'"
            ],
            "application/vnd.google.colaboratory.intrinsic+json": {
              "type": "string"
            }
          },
          "metadata": {},
          "execution_count": 53
        }
      ],
      "source": [
        "# retorna a string com a primeira letra maiuscula\n",
        "s.capitalize()"
      ]
    },
    {
      "cell_type": "code",
      "execution_count": 54,
      "metadata": {
        "id": "4wAT6AqKMsNK",
        "colab": {
          "base_uri": "https://localhost:8080/"
        },
        "outputId": "b0ed41bd-505d-40de-801b-8820f3b9ed88"
      },
      "outputs": [
        {
          "output_type": "execute_result",
          "data": {
            "text/plain": [
              "3"
            ]
          },
          "metadata": {},
          "execution_count": 54
        }
      ],
      "source": [
        "#informa quantas vezes ua caractere (ou sequencia) aparece na string\n",
        "s.count('l')"
      ]
    },
    {
      "cell_type": "code",
      "execution_count": 55,
      "metadata": {
        "id": "N8lXZKPMMsNK",
        "colab": {
          "base_uri": "https://localhost:8080/"
        },
        "outputId": "4f96e7c7-a007-47a7-b204-1b81d95928d5"
      },
      "outputs": [
        {
          "output_type": "execute_result",
          "data": {
            "text/plain": [
              "True"
            ]
          },
          "metadata": {},
          "execution_count": 55
        }
      ],
      "source": [
        "#verifica se uma sring inicia com determina sequencia\n",
        "s.startswith(\"Hel\")"
      ]
    },
    {
      "cell_type": "code",
      "execution_count": 56,
      "metadata": {
        "id": "9PPv77XPMsNK",
        "colab": {
          "base_uri": "https://localhost:8080/"
        },
        "outputId": "e9ba7d5f-697b-4611-f5af-3c491723d868"
      },
      "outputs": [
        {
          "output_type": "execute_result",
          "data": {
            "text/plain": [
              "False"
            ]
          },
          "metadata": {},
          "execution_count": 56
        }
      ],
      "source": [
        "#verifica se uma string termina com uma determinada sequencia\n",
        "s.endswith('rld')"
      ]
    },
    {
      "cell_type": "code",
      "execution_count": 63,
      "metadata": {
        "id": "N3OeKV4wMsNK",
        "colab": {
          "base_uri": "https://localhost:8080/"
        },
        "outputId": "c0e98d8a-45d1-4a5f-ea25-bc5fdc5afd7f"
      },
      "outputs": [
        {
          "output_type": "execute_result",
          "data": {
            "text/plain": [
              "False"
            ]
          },
          "metadata": {},
          "execution_count": 63
        }
      ],
      "source": [
        "#verifica se a string possui algum conteúdo alfanumerico (letra e número)\n",
        "e='!@#$%'\n",
        "e.isalnum()"
      ]
    },
    {
      "cell_type": "code",
      "execution_count": 64,
      "metadata": {
        "id": "IQzgqmhGMsNK",
        "colab": {
          "base_uri": "https://localhost:8080/"
        },
        "outputId": "90e61416-1917-4939-91f8-789280358865"
      },
      "outputs": [
        {
          "output_type": "execute_result",
          "data": {
            "text/plain": [
              "False"
            ]
          },
          "metadata": {},
          "execution_count": 64
        }
      ],
      "source": [
        "#verifica se a string possui apenas conteúdo alfabético\n",
        "s.isalpha()"
      ]
    },
    {
      "cell_type": "code",
      "execution_count": 65,
      "metadata": {
        "id": "OvZPjBDrMsNL",
        "colab": {
          "base_uri": "https://localhost:8080/"
        },
        "outputId": "ab884389-1cf7-47bc-aa5b-a0a480542953"
      },
      "outputs": [
        {
          "output_type": "execute_result",
          "data": {
            "text/plain": [
              "True"
            ]
          },
          "metadata": {},
          "execution_count": 65
        }
      ],
      "source": [
        "#verifica se todas as letras de uma string são maiusculas\n",
        "e=\"TESTE\"\n",
        "e.isupper()"
      ]
    },
    {
      "cell_type": "code",
      "execution_count": 66,
      "metadata": {
        "id": "cKB4wHVtMsNL",
        "colab": {
          "base_uri": "https://localhost:8080/"
        },
        "outputId": "10e1420c-e376-4d48-ae97-e0a8f830c391"
      },
      "outputs": [
        {
          "output_type": "execute_result",
          "data": {
            "text/plain": [
              "True"
            ]
          },
          "metadata": {},
          "execution_count": 66
        }
      ],
      "source": [
        "#verifica se todas as letras de uma string são minusculas\n",
        "e=\"teste\"\n",
        "e.islower()"
      ]
    },
    {
      "cell_type": "code",
      "execution_count": null,
      "metadata": {
        "id": "ZxzKV8C7MsNL"
      },
      "outputs": [],
      "source": [
        "#Inverte o conteúdo da string (maiusculo -> minusculo)\n",
        "k='Python'\n",
        "k.swapcase()"
      ]
    },
    {
      "cell_type": "code",
      "execution_count": 67,
      "metadata": {
        "id": "7EJrx3vmMsNL",
        "colab": {
          "base_uri": "https://localhost:8080/",
          "height": 35
        },
        "outputId": "9f838fc4-b9bf-426f-c12c-c1ce6a49fbb2"
      },
      "outputs": [
        {
          "output_type": "execute_result",
          "data": {
            "text/plain": [
              "'Apostila De Python'"
            ],
            "application/vnd.google.colaboratory.intrinsic+json": {
              "type": "string"
            }
          },
          "metadata": {},
          "execution_count": 67
        }
      ],
      "source": [
        "#Converte para maiusculo todas as primeiras letras de cada palavra da string\n",
        "k=\"apostila de python\"\n",
        "k.title()"
      ]
    },
    {
      "cell_type": "code",
      "execution_count": 68,
      "metadata": {
        "id": "yiGUF-l0MsNL",
        "colab": {
          "base_uri": "https://localhost:8080/"
        },
        "outputId": "2d28072c-653d-4c9e-9610-f16075ba82c1"
      },
      "outputs": [
        {
          "output_type": "stream",
          "name": "stdout",
          "text": [
            "Apostila de Python\n"
          ]
        }
      ],
      "source": [
        "#substitui na string o trecho S1 pelo trecho S2\n",
        "k = 'Apostila Teste'\n",
        "print(k.replace('Teste', 'de Python'))\n"
      ]
    },
    {
      "cell_type": "code",
      "execution_count": 70,
      "metadata": {
        "id": "nqttGkpTMsNM",
        "colab": {
          "base_uri": "https://localhost:8080/"
        },
        "outputId": "093d51b5-a10c-44ca-e131-95a582c653e5"
      },
      "outputs": [
        {
          "output_type": "stream",
          "name": "stdout",
          "text": [
            "Apostila de Python\n"
          ]
        },
        {
          "output_type": "execute_result",
          "data": {
            "text/plain": [
              "15"
            ]
          },
          "metadata": {},
          "execution_count": 70
        }
      ],
      "source": [
        "#retorna o índice da primeira ocorrência de um determinado caractere\n",
        "#na string. Se o caractere não estiver na string retorna -1\n",
        "k='Apostila de Python'\n",
        "print(k)\n",
        "k.find('h')\n"
      ]
    },
    {
      "cell_type": "code",
      "execution_count": 71,
      "metadata": {
        "id": "K5FGX_N2MsNM",
        "colab": {
          "base_uri": "https://localhost:8080/"
        },
        "outputId": "131ed9af-9b4c-4279-e1f3-f9d7f1b972bc"
      },
      "outputs": [
        {
          "output_type": "execute_result",
          "data": {
            "text/plain": [
              "-1"
            ]
          },
          "metadata": {},
          "execution_count": 71
        }
      ],
      "source": [
        "k.find('u')"
      ]
    },
    {
      "cell_type": "code",
      "execution_count": 72,
      "metadata": {
        "id": "VneAlXgCMsNM",
        "colab": {
          "base_uri": "https://localhost:8080/"
        },
        "outputId": "4ac0da62-afbd-43fd-a07e-db49ea0b2e9f"
      },
      "outputs": [
        {
          "output_type": "execute_result",
          "data": {
            "text/plain": [
              "6"
            ]
          },
          "metadata": {},
          "execution_count": 72
        }
      ],
      "source": [
        "#ajusta a string a um tamanho mínimo, \n",
        "#acrescentando espaços a direita se necessário\n",
        "p='Python'\n",
        "len(p)\n"
      ]
    },
    {
      "cell_type": "code",
      "execution_count": 78,
      "metadata": {
        "id": "uYHAKoo3MsNM",
        "colab": {
          "base_uri": "https://localhost:8080/"
        },
        "outputId": "f69b6d1b-4a6c-479f-f784-20c24492a862"
      },
      "outputs": [
        {
          "output_type": "stream",
          "name": "stdout",
          "text": [
            "Python              !\n"
          ]
        }
      ],
      "source": [
        "len(p.ljust(20))\n",
        "print(p.ljust(20)+\"!\")"
      ]
    },
    {
      "cell_type": "code",
      "execution_count": 79,
      "metadata": {
        "id": "PFFyep_EMsNM",
        "colab": {
          "base_uri": "https://localhost:8080/"
        },
        "outputId": "4cc03e24-d25f-4557-b846-17bd8f251035"
      },
      "outputs": [
        {
          "output_type": "execute_result",
          "data": {
            "text/plain": [
              "6"
            ]
          },
          "metadata": {},
          "execution_count": 79
        }
      ],
      "source": [
        "#ajusta a string a um tamanho mínimo, \n",
        "#acrescentando espaços a esquerda se necessário\n",
        "p='Python'\n",
        "len(p)\n"
      ]
    },
    {
      "cell_type": "code",
      "execution_count": 77,
      "metadata": {
        "id": "SUzylRSEMsNM",
        "colab": {
          "base_uri": "https://localhost:8080/"
        },
        "outputId": "b1ec4c9d-4a3f-4c25-c448-03da292a6276"
      },
      "outputs": [
        {
          "output_type": "stream",
          "name": "stdout",
          "text": [
            "              Python!\n"
          ]
        }
      ],
      "source": [
        "len(p.rjust(20))\n",
        "print(p.rjust(20)+\"!\")"
      ]
    },
    {
      "cell_type": "code",
      "execution_count": 81,
      "metadata": {
        "id": "FAWVsCtRMsNN",
        "colab": {
          "base_uri": "https://localhost:8080/"
        },
        "outputId": "33bdfd54-5100-4f8b-d770-b4d65388f88f"
      },
      "outputs": [
        {
          "output_type": "stream",
          "name": "stdout",
          "text": [
            "            Python            \n"
          ]
        }
      ],
      "source": [
        "#ajusta a string para um tamanho mínimo, acrescentando espaços à direita e a esqueda se necessário\n",
        "p='Python'\n",
        "print(p.center(30))"
      ]
    },
    {
      "cell_type": "code",
      "execution_count": 82,
      "metadata": {
        "id": "26BDQKtAMsNN",
        "colab": {
          "base_uri": "https://localhost:8080/"
        },
        "outputId": "64489818-f016-4d3d-9e79-42e7bbc775fb"
      },
      "outputs": [
        {
          "output_type": "stream",
          "name": "stdout",
          "text": [
            "-\n",
            "-Python      -\n"
          ]
        }
      ],
      "source": [
        "#remove todos os espaços em branco do lado esquedo da string\n",
        "p='      Python      '\n",
        "print(\"-\")\n",
        "print(\"-\"+p.lstrip()+\"-\")"
      ]
    },
    {
      "cell_type": "code",
      "execution_count": 83,
      "metadata": {
        "id": "3_udDCDzMsNN",
        "colab": {
          "base_uri": "https://localhost:8080/"
        },
        "outputId": "d4d58dab-4c50-48e1-c2fb-35ea9c12f975"
      },
      "outputs": [
        {
          "output_type": "stream",
          "name": "stdout",
          "text": [
            "-\n",
            "-      Python-\n"
          ]
        }
      ],
      "source": [
        "#remove todos os espaços em branco do lado direito da string\n",
        "p='      Python      '\n",
        "print(\"-\")\n",
        "print(\"-\"+p.rstrip()+\"-\")"
      ]
    },
    {
      "cell_type": "code",
      "execution_count": 84,
      "metadata": {
        "id": "_7U002jbMsNN",
        "colab": {
          "base_uri": "https://localhost:8080/"
        },
        "outputId": "fc8ca630-d478-48f2-b643-a80f79f4a66a"
      },
      "outputs": [
        {
          "output_type": "stream",
          "name": "stdout",
          "text": [
            "-\n",
            "-Python-\n"
          ]
        }
      ],
      "source": [
        "#remove todos os espaços em branco  da string\n",
        "p='      Python      '\n",
        "print(\"-\")\n",
        "print(\"-\"+p.strip()+\"-\")"
      ]
    },
    {
      "cell_type": "markdown",
      "metadata": {
        "id": "70JAhoUbMsNN"
      },
      "source": [
        "## Formatação da Impressão\n",
        "\n",
        "Podemos usar o método .format() para adicionar objetos formatados a instruções de impressões.\n",
        "\n",
        "A maneira mais fácil de mostrar isso é através de um exemplo:"
      ]
    },
    {
      "cell_type": "code",
      "execution_count": 85,
      "metadata": {
        "id": "85j5j8UOMsNN",
        "colab": {
          "base_uri": "https://localhost:8080/",
          "height": 35
        },
        "outputId": "7caeb897-94aa-4eab-fbf6-49e8e105a005"
      },
      "outputs": [
        {
          "output_type": "execute_result",
          "data": {
            "text/plain": [
              "'Insert another string with curly brackets: The inserted string'"
            ],
            "application/vnd.google.colaboratory.intrinsic+json": {
              "type": "string"
            }
          },
          "metadata": {},
          "execution_count": 85
        }
      ],
      "source": [
        "# o .format() vai colocar o texto dentro do {}\n",
        "'Insert another string with curly brackets: {}'.format('The inserted string')"
      ]
    },
    {
      "cell_type": "markdown",
      "metadata": {
        "id": "1gmmyY2xMsNO"
      },
      "source": [
        "Se tentarmos concatenar diretamente a saida na função print() com uma variavel numérica ocasionará um erro de execução."
      ]
    },
    {
      "cell_type": "code",
      "execution_count": null,
      "metadata": {
        "id": "hGJ0cvPCMsNO"
      },
      "outputs": [],
      "source": [
        "salario = 10000\n",
        "print(\"O valor do salario e\"+salario)"
      ]
    },
    {
      "cell_type": "markdown",
      "metadata": {
        "id": "DjDE318WMsNO"
      },
      "source": [
        "Através do format corrigimos esse problema."
      ]
    },
    {
      "cell_type": "code",
      "execution_count": 86,
      "metadata": {
        "id": "i0NxoUufMsNO",
        "colab": {
          "base_uri": "https://localhost:8080/"
        },
        "outputId": "733f7ed8-4fef-4aeb-87b1-9139c82f0f2b"
      },
      "outputs": [
        {
          "output_type": "stream",
          "name": "stdout",
          "text": [
            "O salario informado e de 10000 reais mensais\n"
          ]
        }
      ],
      "source": [
        "salario = 10000\n",
        "print('O salario informado e de {} reais mensais'.format(salario))"
      ]
    },
    {
      "cell_type": "markdown",
      "metadata": {
        "id": "kHNupnbRMsNO"
      },
      "source": [
        "Quanto concatenamos strings na saida do print não temos problemas."
      ]
    },
    {
      "cell_type": "code",
      "execution_count": 87,
      "metadata": {
        "id": "vxY3IqfkMsNO",
        "colab": {
          "base_uri": "https://localhost:8080/"
        },
        "outputId": "2a9e56a0-86fa-4a14-d201-04696f4c65e4"
      },
      "outputs": [
        {
          "output_type": "stream",
          "name": "stdout",
          "text": [
            "teste de texto digitado pelo aluno\n"
          ]
        }
      ],
      "source": [
        "texto01 = \"teste de texto\"\n",
        "texto02 = \" digitado pelo aluno\"\n",
        "print(texto01+texto02)"
      ]
    },
    {
      "cell_type": "markdown",
      "metadata": {
        "id": "iTjIJ4YjMsNP"
      },
      "source": [
        "## Listas\n",
        "\n",
        "Anteriormente, ao discutir strings, introduzimos o conceito de sequência em Python. \n",
        "\n",
        "As listas podem ser pensadas na versão mais geral de uma sequência em Python. \n",
        "\n",
        "Ao contrário das strings, eles são mutáveis, o que significa que os elementos dentro de uma lista podem ser alterados!\n",
        "\n",
        "As listas são construídas com colchetes [] e vírgulas que separam cada elemento da lista.\n",
        "\n",
        "Lista é um conjunto sequencial de valores, onde cada valor é identificado através de um índice. O primeiro valor tem índice 0. Uma lista em Python é declarada da seguinte forma:\n",
        "\n",
        "Nome_Lista = [ valor1, valor2, ..., valorN]\n",
        "\n",
        "Uma lista pode ter valores de qualquer tipo, incluindo outras listas.\n",
        "\n",
        "Exemplo:"
      ]
    },
    {
      "cell_type": "code",
      "execution_count": null,
      "metadata": {
        "id": "JCTTlgKIMsNP"
      },
      "outputs": [],
      "source": [
        "#lista com mutlimos tipos de dados (inteiro, string, real, lista, string, dicionario)\n",
        "l = [3, 'abacate', 9.7, [1,2,3], \"Python\", (3,\"j\")]\n",
        "print(l)"
      ]
    },
    {
      "cell_type": "markdown",
      "metadata": {
        "id": "ZXXAtwTfMsNP"
      },
      "source": [
        "Assim como as strings, a função len() irá dizer-lhe quantos itens estão na sequência da lista."
      ]
    },
    {
      "cell_type": "code",
      "execution_count": null,
      "metadata": {
        "id": "3NC6yawtMsNP"
      },
      "outputs": [],
      "source": [
        "len(l)"
      ]
    },
    {
      "cell_type": "markdown",
      "metadata": {
        "id": "D5XEKp5cMsNP"
      },
      "source": [
        "## Listas - Indexação e Corte\n",
        "\n",
        "Indexar e cortar funciona exatamente como em strings. Vamos fazer uma nova lista para nos\n",
        "\n",
        "lembrar de como isso funciona:"
      ]
    },
    {
      "cell_type": "code",
      "execution_count": null,
      "metadata": {
        "id": "gSjpF58ZMsNQ"
      },
      "outputs": [],
      "source": [
        "#pega o terceiro elemento da lista\n",
        "print(l[2])"
      ]
    },
    {
      "cell_type": "code",
      "execution_count": null,
      "metadata": {
        "id": "0oYnCwg0MsNQ"
      },
      "outputs": [],
      "source": [
        "#pega o quarto elemento da lista\n",
        "print(l[3])"
      ]
    },
    {
      "cell_type": "code",
      "execution_count": null,
      "metadata": {
        "id": "rdkA4pXYMsNQ"
      },
      "outputs": [],
      "source": [
        "#quando o elemento da lista é uma outra lista podemos passar a posição\n",
        "#do elemento da primeira lista e da segundad lista \n",
        "#funcionando como uma matriz\n",
        "print(l[3][1])"
      ]
    },
    {
      "cell_type": "code",
      "execution_count": null,
      "metadata": {
        "id": "NU8ZDBVSMsNQ"
      },
      "outputs": [],
      "source": [
        "#podemos também pegar todos os elementos a  partir de um determinado indice.\n",
        "print(l[1:])"
      ]
    },
    {
      "cell_type": "code",
      "execution_count": null,
      "metadata": {
        "id": "DjDimr0IMsNQ"
      },
      "outputs": [],
      "source": [
        "#podemos pegar todos elementos até um determinado indice\n",
        "print(l[:3])"
      ]
    },
    {
      "cell_type": "markdown",
      "metadata": {
        "id": "DcGEbBl1MsNQ"
      },
      "source": [
        "Para alterar um elemento da lista, basta fazer uma atribuição de valor através do índice. O valor existente será substituído pelo novo valor.\n",
        "\n",
        "Exemplo:"
      ]
    },
    {
      "cell_type": "code",
      "execution_count": null,
      "metadata": {
        "id": "y_USdvrWMsNR"
      },
      "outputs": [],
      "source": [
        "l[3] = 'morango'\n",
        "print(l)"
      ]
    },
    {
      "cell_type": "markdown",
      "metadata": {
        "id": "1sDpnGF9MsNR"
      },
      "source": [
        "A tentativa de acesso a um índice inexistente resultará em um erro !"
      ]
    },
    {
      "cell_type": "code",
      "execution_count": null,
      "metadata": {
        "id": "k1F4Pv1RMsNR"
      },
      "outputs": [],
      "source": [
        "print(l[7])"
      ]
    },
    {
      "cell_type": "markdown",
      "metadata": {
        "id": "yBfnMzvaMsNR"
      },
      "source": [
        "Podemos realizar a concatenação de listas com o \"+\", sem necessáriamente alterar os seus valores permanentemente."
      ]
    },
    {
      "cell_type": "code",
      "execution_count": null,
      "metadata": {
        "id": "NNgNQ0ZoMsNR"
      },
      "outputs": [],
      "source": [
        "lista01 = [1,2,3,4]\n",
        "lista02 = [5,6,7,8]\n",
        "print(lista01+lista02)\n",
        "#o codigo acima apenas concatena as listas na saída do print não altera seus valores originais"
      ]
    },
    {
      "cell_type": "markdown",
      "metadata": {
        "id": "mXciph-kMsNR"
      },
      "source": [
        "Se necessário realizar a mudança permanente basta fazer uma atribuição."
      ]
    },
    {
      "cell_type": "code",
      "execution_count": null,
      "metadata": {
        "id": "HdoDre-_MsNS"
      },
      "outputs": [],
      "source": [
        "lista03 = lista01+lista02\n",
        "print(lista03)"
      ]
    },
    {
      "cell_type": "markdown",
      "metadata": {
        "id": "YKeIQW0qMsNS"
      },
      "source": [
        "Também, como ocorre com as strings, poeemos realizar a duplicação com o simbolo de \"*\" das listas."
      ]
    },
    {
      "cell_type": "code",
      "execution_count": null,
      "metadata": {
        "id": "bGFYaGhOMsNS"
      },
      "outputs": [],
      "source": [
        "print(lista03*3)"
      ]
    },
    {
      "cell_type": "markdown",
      "metadata": {
        "id": "7krXZeDIMsNS"
      },
      "source": [
        "## Listas - Métodos\n",
        "\n",
        "Se você está familiarizado com outra linguagem de programação, você pode começar a comprar arrays em outro idioma e listas em Python. \n",
        "\n",
        "As listas em Python, no entanto, tendem a ser mais flexíveis do que arrays em outras línguas por dois bons motivos: eles não têm\n",
        "tamanho fixo (o que significa que não precisamos especificar o tamanho de uma lista), e eles não têm restrição de tipo fixo (como já vimos acima).\n",
        "\n",
        "Vamos prosseguir e explore alguns métodos mais especiais para listas:"
      ]
    },
    {
      "cell_type": "code",
      "execution_count": null,
      "metadata": {
        "id": "08fQR6JGMsNS"
      },
      "outputs": [],
      "source": [
        "#cria lista\n",
        "l = [1,2,3]\n",
        "print(l)"
      ]
    },
    {
      "cell_type": "code",
      "execution_count": null,
      "metadata": {
        "id": "JsFr3WG5MsNS"
      },
      "outputs": [],
      "source": [
        "#adiciona elemento ao final da lista\n",
        "l.append('insira-me')\n",
        "print(l)"
      ]
    },
    {
      "cell_type": "code",
      "execution_count": null,
      "metadata": {
        "id": "XX7cLxDCMsNT"
      },
      "outputs": [],
      "source": [
        "#retira elemento da lista\n",
        "#Por padrão o pop retira o último elemento da lista, \n",
        "#mas também podemos especificar qual queremos retirar\n",
        "l.pop(0)\n",
        "print(l)"
      ]
    },
    {
      "cell_type": "code",
      "execution_count": null,
      "metadata": {
        "id": "0nnrVU87MsNT"
      },
      "outputs": [],
      "source": [
        "#retira ultimo elemento e armazena em variavel\n",
        "item_excluido = l.pop()\n",
        "print(item_excluido)"
      ]
    },
    {
      "cell_type": "code",
      "execution_count": null,
      "metadata": {
        "id": "GjHyw_jmMsNT"
      },
      "outputs": [],
      "source": [
        "#visualiza a lista\n",
        "print(l)"
      ]
    },
    {
      "cell_type": "markdown",
      "metadata": {
        "id": "Gn3risG1MsNT"
      },
      "source": [
        "Podemos usar o método sort e o método reverse para alterar as listas."
      ]
    },
    {
      "cell_type": "code",
      "execution_count": null,
      "metadata": {
        "id": "pGWtdZPhMsNT"
      },
      "outputs": [],
      "source": [
        "#cria a lista\n",
        "nova_lista = ['a', 'e', 'x', 'b', 'c']\n",
        "print(nova_lista)"
      ]
    },
    {
      "cell_type": "code",
      "execution_count": null,
      "metadata": {
        "id": "_SuyjJ9lMsNT"
      },
      "outputs": [],
      "source": [
        "#use o reverse para reverter a ordem da lista\n",
        "#ATENÇÂO !!! Este método altera permanentemetne a ordem original da lista\n",
        "nova_lista.reverse()\n",
        "print(nova_lista)"
      ]
    },
    {
      "cell_type": "code",
      "execution_count": null,
      "metadata": {
        "id": "8tAbN6cUMsNT"
      },
      "outputs": [],
      "source": [
        "#para ordenar um alista use o sort\n",
        "nova_lista.sort()\n",
        "print(nova_lista)"
      ]
    },
    {
      "cell_type": "markdown",
      "metadata": {
        "id": "wQlhW5KpMsNU"
      },
      "source": [
        "## Listas Aninhadas\n",
        "\n",
        "Uma ótima característica das estruturas de dados do Python é que eles suportam\n",
        "aninhamento . Isso significa que podemos ter estruturas de dados dentro das estruturas de\n",
        "dados. Por exemplo: uma lista dentro de uma lista.\n",
        "\n",
        "Vamos ver como isso funciona!"
      ]
    },
    {
      "cell_type": "code",
      "execution_count": null,
      "metadata": {
        "id": "RsO2o5ngMsNU"
      },
      "outputs": [],
      "source": [
        "#vamos criar 3 listas\n",
        "list1 = [1,2,3]\n",
        "list2 = [3,4,5]\n",
        "list3 = [6,7,8]\n",
        "\n",
        "print(list1)\n",
        "print(list2)\n",
        "print(list3)\n",
        "\n"
      ]
    },
    {
      "cell_type": "code",
      "execution_count": null,
      "metadata": {
        "id": "anvscsSnMsNU"
      },
      "outputs": [],
      "source": [
        "#agora vamos montar uma matriz a partir de listas aninhadas\n",
        "\n",
        "matriz = [list1,list2,list3]\n",
        "print(matriz)"
      ]
    },
    {
      "cell_type": "code",
      "execution_count": null,
      "metadata": {
        "id": "QP49YwHlMsNU"
      },
      "outputs": [],
      "source": [
        "#para pegar o primeiro elemento da matriz (1 linha ou 1 lista aninhada)\n",
        "matriz[0]"
      ]
    },
    {
      "cell_type": "code",
      "execution_count": null,
      "metadata": {
        "id": "ljccWpR_MsNU"
      },
      "outputs": [],
      "source": [
        "#agora vamos pegar o primeiro elemento da primeira lista aninhada na matriz\n",
        "matriz[0][0]"
      ]
    },
    {
      "cell_type": "markdown",
      "metadata": {
        "id": "3M2wuXBJMsNV"
      },
      "source": [
        "Outras funções para listas"
      ]
    },
    {
      "cell_type": "code",
      "execution_count": null,
      "metadata": {
        "id": "g99_tPmxMsNV"
      },
      "outputs": [],
      "source": [
        "#cria uma nova lista\n",
        "lista01 = [1,2,3,4,5,6,7,8,9]"
      ]
    },
    {
      "cell_type": "code",
      "execution_count": null,
      "metadata": {
        "id": "HWMVnqzIMsNV"
      },
      "outputs": [],
      "source": [
        "#retorna o menor valor da lista\n",
        "print(min(lista01))"
      ]
    },
    {
      "cell_type": "code",
      "execution_count": null,
      "metadata": {
        "id": "eg1ts1IpMsNV"
      },
      "outputs": [],
      "source": [
        "#retorna o maior valor da lista\n",
        "print(max(lista01))"
      ]
    },
    {
      "cell_type": "code",
      "execution_count": null,
      "metadata": {
        "id": "al7wFTBuMsNV"
      },
      "outputs": [],
      "source": [
        "#retorna a soma dos valores da lista\n",
        "print(sum(lista01))"
      ]
    },
    {
      "cell_type": "code",
      "execution_count": null,
      "metadata": {
        "id": "00JAuOE8MsNW"
      },
      "outputs": [],
      "source": [
        "#verifica se existe um elemento na lista\n",
        "3 in lista01"
      ]
    },
    {
      "cell_type": "markdown",
      "metadata": {
        "id": "FSjwkTNZMsNW"
      },
      "source": [
        "## Dicionários\n",
        "\n",
        "Nós temos aprendido sobre sequências em Python, mas agora vamos mudar de engrenagem e aprender sobre mapeamentos em Python. Se você está familiarizado com outras linguagens, pode pensar nestes Dicionários como tabelas de hash.\n",
        "\n",
        "Esta seção servirá como uma breve introdução aos dicionários e consiste em:\n",
        "1.) Construindo um Dicionário\n",
        "2.) Acessando objetos de um dicionário \n",
        "3.) Dicionários de assentamento \n",
        "4.) Métodos básicos do dicionário\n",
        "\n",
        "Então, o que são os mapeamentos? \n",
        "\n",
        "Os mapeamentos são uma coleção de objetos que são armazenados por uma chave, ao contrário de uma seqüência que armazena objetos por sua posição relativa. Esta é uma distinção importante, uma vez que os mapeamentos não reterão a ordem, pois possuem objetos definidos por uma chave.\n",
        "\n",
        "Um dicionário de Python consiste em uma chave e depois em um valor associado. Esse valor\n",
        "pode ser quase qualquer objeto Python.\n",
        "\n",
        "# Construindo um Dicionário\n",
        "\n",
        "Vamos ver como podemos construir dicionários para obter uma melhor compreensão de como eles funcionam!\n"
      ]
    },
    {
      "cell_type": "code",
      "execution_count": null,
      "metadata": {
        "id": "huyTWjckMsNW"
      },
      "outputs": [],
      "source": [
        "# Cria um dicionário com {} e: que significa uma chave e um valor\n",
        "my_dict = {'key1':'value1','key2':'value2'}"
      ]
    },
    {
      "cell_type": "code",
      "execution_count": null,
      "metadata": {
        "id": "L912iH1YMsNW"
      },
      "outputs": [],
      "source": [
        "# Chamando valores pela chave\n",
        "my_dict['key2']"
      ]
    },
    {
      "cell_type": "markdown",
      "metadata": {
        "id": "Hgoax4YHMsNW"
      },
      "source": [
        "É importante notar que os dicionários são muito flexíveis com relação aos tipos de dados\n",
        "que eles podem conter. Por exemplo:"
      ]
    },
    {
      "cell_type": "code",
      "execution_count": null,
      "metadata": {
        "id": "MoOp90V6MsNW"
      },
      "outputs": [],
      "source": [
        "my_dict = {'key1':123,'key2':[12,23,33],'key3':['item0','item1','item2']}"
      ]
    },
    {
      "cell_type": "code",
      "execution_count": null,
      "metadata": {
        "id": "AjaGLrqXMsNX"
      },
      "outputs": [],
      "source": [
        "# Vamos chamar itens do dicionário\n",
        "my_dict['key3']"
      ]
    },
    {
      "cell_type": "code",
      "execution_count": null,
      "metadata": {
        "id": "z107VpBsMsNX"
      },
      "outputs": [],
      "source": [
        "# Podemos chamar itens de uma lista presente na posição referente à chave 'key\n",
        "my_dict['key3'][0]"
      ]
    },
    {
      "cell_type": "code",
      "execution_count": null,
      "metadata": {
        "id": "SJiEqwt8MsNX"
      },
      "outputs": [],
      "source": [
        "# Podemos chamar métodos nos itens também\n",
        "my_dict['key3'][0].upper()"
      ]
    },
    {
      "cell_type": "markdown",
      "metadata": {
        "id": "5IIPjH8hMsNY"
      },
      "source": [
        "Podemos também alterar valores através da chave."
      ]
    },
    {
      "cell_type": "code",
      "execution_count": null,
      "metadata": {
        "id": "6Jr497UTMsNY"
      },
      "outputs": [],
      "source": [
        "my_dict['key1']"
      ]
    },
    {
      "cell_type": "code",
      "execution_count": null,
      "metadata": {
        "id": "HwbcUWFwMsNY"
      },
      "outputs": [],
      "source": [
        "my_dict['key1'] = my_dict['key1'] - 123"
      ]
    },
    {
      "cell_type": "code",
      "execution_count": null,
      "metadata": {
        "id": "aQURdrHqMsNZ"
      },
      "outputs": [],
      "source": [
        "my_dict['key1']"
      ]
    },
    {
      "cell_type": "markdown",
      "metadata": {
        "id": "OW9uf0RJMsNZ"
      },
      "source": [
        "Uma nota rápida: o Python possui um método interno de fazer uma subtração ou adição\n",
        "automática (ou multiplicação ou divisão). Poderíamos ter usado += ou -= para a atribuição.\n",
        "Por exemplo:"
      ]
    },
    {
      "cell_type": "code",
      "execution_count": null,
      "metadata": {
        "id": "_XgDh-byMsNZ"
      },
      "outputs": [],
      "source": [
        "# Define o objeto como sendo ele mesmo menos 123\n",
        "my_dict['key1'] -= 123\n",
        "my_dict['key1']"
      ]
    },
    {
      "cell_type": "markdown",
      "metadata": {
        "id": "2qBTBHu8MsNZ"
      },
      "source": [
        "Também podemos criar chaves por atribuição. Por exemplo, se começássemos com um\n",
        "dicionário vazio, poderíamos adicionar-lhe continuamente:"
      ]
    },
    {
      "cell_type": "code",
      "execution_count": null,
      "metadata": {
        "id": "Rp3DGyDyMsNZ"
      },
      "outputs": [],
      "source": [
        "# Cria um novo dicionário\n",
        "d = {}"
      ]
    },
    {
      "cell_type": "code",
      "execution_count": null,
      "metadata": {
        "id": "208qKK4DMsNZ"
      },
      "outputs": [],
      "source": [
        "# Cria uma chave por associoação\n",
        "d['animal'] = 'Dog'"
      ]
    },
    {
      "cell_type": "code",
      "execution_count": null,
      "metadata": {
        "id": "NvC1RIJWMsNZ"
      },
      "outputs": [],
      "source": [
        "# Pode fazer isso com qualquer objeto\n",
        "d['answer'] = 42"
      ]
    },
    {
      "cell_type": "code",
      "execution_count": null,
      "metadata": {
        "id": "2VVAZLLiMsNa"
      },
      "outputs": [],
      "source": [
        "print(d)"
      ]
    },
    {
      "cell_type": "markdown",
      "metadata": {
        "id": "pQVzAlSKMsNa"
      },
      "source": [
        "### Aninhamento de Dicionários\n",
        "\n",
        "Espero que você esteja começando a ver o quão poderoso Python é com sua flexibilidade de\n",
        "objetos de nidificação e métodos dos mesmos. Vamos ver um dicionário aninhado dentro de\n",
        "um dicionário:"
      ]
    },
    {
      "cell_type": "code",
      "execution_count": null,
      "metadata": {
        "id": "1EtX3x7TMsNa"
      },
      "outputs": [],
      "source": [
        "d = {'key1':{'nestkey':{'subnestkey':'value'}}}"
      ]
    },
    {
      "cell_type": "code",
      "execution_count": null,
      "metadata": {
        "id": "zY_rt1imMsNa"
      },
      "outputs": [],
      "source": [
        "# Continue chamando as chaves...\n",
        "d['key1']['nestkey']['subnestkey']"
      ]
    },
    {
      "cell_type": "markdown",
      "metadata": {
        "id": "IZgy_yBTMsNa"
      },
      "source": [
        "### Alguns métodos de dicionários\n",
        "\n",
        "Existem alguns métodos que podemos chamar em um dicionário. Vamos começar uma breve\n",
        "introdução a alguns deles:"
      ]
    },
    {
      "cell_type": "code",
      "execution_count": null,
      "metadata": {
        "id": "tFFQ0DPiMsNb"
      },
      "outputs": [],
      "source": [
        "# Cria um dicionário típico\n",
        "d = {'key1':1,'key2':2,'key3':3}"
      ]
    },
    {
      "cell_type": "code",
      "execution_count": null,
      "metadata": {
        "id": "_lutzHxXMsNb"
      },
      "outputs": [],
      "source": [
        "# Retorna uma lista de todas as chaves\n",
        "d.keys()"
      ]
    },
    {
      "cell_type": "code",
      "execution_count": null,
      "metadata": {
        "id": "et9Hc-xdMsNb"
      },
      "outputs": [],
      "source": [
        "# Pega todos os valores\n",
        "d.values()"
      ]
    },
    {
      "cell_type": "code",
      "execution_count": null,
      "metadata": {
        "id": "-Zb_WMSJMsNb"
      },
      "outputs": [],
      "source": [
        "# Método para retornar as tuplas de todos os itens (aprenderemos sobre as tup\n",
        "d.items()"
      ]
    },
    {
      "cell_type": "markdown",
      "metadata": {
        "id": "gHhQbvsTMsNb"
      },
      "source": [
        "Espero que você tenha agora um bom entendimento básico para a construção de\n",
        "dicionários. Há muito mais para explorar aqui, mas vamos revisar os dicionários mais tarde.\n",
        "Depois desta seção, tudo o que você precisa saber é como criar um dicionário e como\n",
        "recuperar seus valores."
      ]
    },
    {
      "cell_type": "markdown",
      "metadata": {
        "id": "ODOs6EO6MsNb"
      },
      "source": [
        "## Tuplas\n",
        "\n",
        "Em Python, as tuplas são muito semelhantes às listas, no entanto, ao contrário das listas, elas são imutáveis, o que significa que elas não podem ser alteradas. Você usaria tuplas para\n",
        "apresentar coisas que não deveriam ser alteradas, como dias da semana ou datas em um calendário.\n",
        "\n",
        "Nesta seção, obteremos uma breve visão geral do seguinte:\n",
        "1.) Construindo Tuplas \n",
        "2.) Métodos básicos das Tuplas \n",
        "3.) Imutabilidade \n",
        "4.) Quando usar Tuplas\n",
        "\n",
        "Você terá uma intuição de como usar tuplas com base no que você aprendeu sobre as listas.\n",
        "Nós podemos tratá-los de forma muito semelhante, com a maior distinção é que as tuplas são imutáveis.\n",
        "\n",
        "### Construindo Tuplas\n",
        "\n",
        "A construção de tuplas usa () com elementos separados por vírgulas. Por exemplo:"
      ]
    },
    {
      "cell_type": "code",
      "execution_count": null,
      "metadata": {
        "id": "f3zC9xexMsNc"
      },
      "outputs": [],
      "source": [
        "# Pode-se criar uma tupla com múltiplos elementos\n",
        "t = (1,2,3)"
      ]
    },
    {
      "cell_type": "code",
      "execution_count": null,
      "metadata": {
        "id": "-SC0DizwMsNc"
      },
      "outputs": [],
      "source": [
        "# O método len() funciona também para tuplas\n",
        "len(t)"
      ]
    },
    {
      "cell_type": "code",
      "execution_count": null,
      "metadata": {
        "id": "HyTKoHlBMsNc"
      },
      "outputs": [],
      "source": [
        "# Você também pode variar os tipos de dados\n",
        "t = ('one',2)\n",
        "# Mostra\n",
        "t"
      ]
    },
    {
      "cell_type": "code",
      "execution_count": null,
      "metadata": {
        "id": "q_1gjWj7MsNc"
      },
      "outputs": [],
      "source": [
        "# E a indexação funciona exatamente como nas listas\n",
        "t[0]"
      ]
    },
    {
      "cell_type": "code",
      "execution_count": null,
      "metadata": {
        "id": "B4c3KyRZMsNc"
      },
      "outputs": [],
      "source": [
        "# Corte de dados também...\n",
        "t[-1]"
      ]
    },
    {
      "cell_type": "markdown",
      "metadata": {
        "id": "HjUadpzPMsNd"
      },
      "source": [
        "### Métodos básicos da Tupla\n",
        "\n",
        "As tuplas têm métodos internos, mas não tantas quanto listas. Vamos ver dois deles:"
      ]
    },
    {
      "cell_type": "code",
      "execution_count": null,
      "metadata": {
        "id": "OGT8OrjlMsNd"
      },
      "outputs": [],
      "source": [
        "# Use .index com o valor de parâmetro para retornar o índice do mesmo\n",
        "t.index('one')"
      ]
    },
    {
      "cell_type": "code",
      "execution_count": null,
      "metadata": {
        "id": "DX3nH_hXMsNd"
      },
      "outputs": [],
      "source": [
        "# Use .count() para saber quantas vezes determinado elemento apareceu na tupla\n",
        "t.count('one')"
      ]
    },
    {
      "cell_type": "markdown",
      "metadata": {
        "id": "aHyF33P5MsNd"
      },
      "source": [
        "### Tuplas - Imutabilidade\n",
        "\n",
        "Como mencionado anteriormente, tuplas são imutáveis:"
      ]
    },
    {
      "cell_type": "code",
      "execution_count": null,
      "metadata": {
        "id": "mE55C_l0MsNd"
      },
      "outputs": [],
      "source": [
        "t[0]= 'change'"
      ]
    },
    {
      "cell_type": "code",
      "execution_count": null,
      "metadata": {
        "id": "B-QPrjOmMsNd"
      },
      "outputs": [],
      "source": [
        "t.append('nope')"
      ]
    },
    {
      "cell_type": "markdown",
      "metadata": {
        "id": "So-XrA2aMsNd"
      },
      "source": [
        "### Quando usar tuplas ?\n",
        "\n",
        "Você pode estar se perguntando: \"Por que se preocupar em usar tuplas quando eles têm menos métodos disponíveis?\" Para ser honesto, as tuplas não são usadas tantas vezes como listas na programação, mas são usadas quando a imutabilidade é necessária. Se no seu programa você está passando por um objeto e precisa ter certeza de que ele não seja alterado, então a tupla se tornará sua solução. Ele fornece uma fonte conveniente de integridade de dados.\n",
        "\n",
        "Agora você pode criar e usar suas tuplas em sua programação, bem como ter uma compreensão da sua imutabilidade."
      ]
    },
    {
      "cell_type": "markdown",
      "metadata": {
        "id": "2sMONN-uMsNe"
      },
      "source": [
        "## Inputs - Entrada de Dados\n",
        "\n",
        "\n",
        "O python possui uma função de captura para as entradas do usuário: a função input(). Quando essa função é chamada, o programa espera o usuário digitar alguma coisa. Quando o usuário aperta a tecla ENTER, o programa processa e imprime na tela o valor digitado em forma de String.\n",
        "\n",
        "Deste modo as entradas de dados serão sempre no formato String, como no exemplo abaixo a variavel salario e a variavel nome serão do tipo String.\n"
      ]
    },
    {
      "cell_type": "code",
      "execution_count": null,
      "metadata": {
        "id": "MYoIb7FaMsNe"
      },
      "outputs": [],
      "source": [
        "salario = input(\"Entre com o seu salario:\")"
      ]
    },
    {
      "cell_type": "code",
      "execution_count": null,
      "metadata": {
        "id": "33WLspPyMsNe"
      },
      "outputs": [],
      "source": [
        "nome = input(\"Entre com o seu nome:\")"
      ]
    },
    {
      "cell_type": "markdown",
      "metadata": {
        "id": "lx9Z9CgXMsNe"
      },
      "source": [
        "Para verificarmos o tipo de dados que foi inserido nas variáveis salario e nome podemos utilizar a função type()."
      ]
    },
    {
      "cell_type": "code",
      "execution_count": null,
      "metadata": {
        "id": "R7GzBHq5MsNe"
      },
      "outputs": [],
      "source": [
        "print(type(salario))\n",
        "print(type(nome))\n"
      ]
    },
    {
      "cell_type": "markdown",
      "metadata": {
        "id": "j9ovHUWZMsNe"
      },
      "source": [
        "### Conversão de tipos\n",
        "\n",
        "A função input() lê o valor digitado pelo usuário como uma string.\n",
        "\n",
        "Se o usuário digitar o número 1400 a variável salario armazenará a string 1400, podemos checar isso com a função type(), como visualizamos anteriormente.\n",
        "\n",
        "Para conseguirmos receber um valor inteiro ou decimal devemos utilizar funções de conversão: int(), float() ou complex() se por acaso utilizarmos números complexos. Podemos também fazer a conversão de númericos para string com a função str()."
      ]
    },
    {
      "cell_type": "code",
      "execution_count": null,
      "metadata": {
        "id": "vTb2J5ByMsNe"
      },
      "outputs": [],
      "source": [
        "salario = float(input(\"Entre com o seu salaro\"))\n",
        "print(salario)\n",
        "print(type(salario))"
      ]
    },
    {
      "cell_type": "markdown",
      "metadata": {
        "id": "gTQO_xhnMsNf"
      },
      "source": [
        "No exemplo acima a função input() receberá um valor String que será convertido para o tipo float pela função float() e armazenado na variavel salario."
      ]
    },
    {
      "cell_type": "markdown",
      "metadata": {
        "id": "rRsVLz6NMsNf"
      },
      "source": [
        "## Sets e Boleanos\n",
        "\n",
        "Existem dois outros tipos de objeto em Python que devemos cobrir rapidamente. Conjuntos (Sets) e Boleanos."
      ]
    },
    {
      "cell_type": "markdown",
      "metadata": {
        "id": "jP2nZQUcMsNf"
      },
      "source": [
        "### Set's\n",
        "\n",
        "Os conjuntos são uma coleção não ordenada de elementos únicos. Podemos construí-los usando a função set(). Avançemos e façamos um conjunto para ver como funciona:\n",
        "\n"
      ]
    },
    {
      "cell_type": "code",
      "execution_count": null,
      "metadata": {
        "id": "lWoPSNpkMsNf"
      },
      "outputs": [],
      "source": [
        "x = set()\n",
        "print(x)"
      ]
    },
    {
      "cell_type": "code",
      "execution_count": null,
      "metadata": {
        "id": "Kct2XBPaMsNf"
      },
      "outputs": [],
      "source": [
        "#adiciona elementos com o método add()\n",
        "x.add(1)\n",
        "print(x)"
      ]
    },
    {
      "cell_type": "markdown",
      "metadata": {
        "id": "j3tjQJ-nMsNf"
      },
      "source": [
        "Observe os colchetes. Isso não indica um dicionário! Embora você possa montar analogias como um set sendo um dicionário com apenas chaves. Sabemos que um conjunto tem apenas entradas únicas. Então, o que acontece quando tentamos adicionar algo que já está em um conjunto?"
      ]
    },
    {
      "cell_type": "code",
      "execution_count": null,
      "metadata": {
        "id": "W0mF4RNXMsNf"
      },
      "outputs": [],
      "source": [
        "# Adiciona um elemento novo\n",
        "x.add(2)\n",
        "print(x)"
      ]
    },
    {
      "cell_type": "code",
      "execution_count": null,
      "metadata": {
        "id": "-NCvMPMNMsNg"
      },
      "outputs": [],
      "source": [
        "# Adiciona o mesmo elemento\n",
        "x.add(1)\n",
        "print(x)"
      ]
    },
    {
      "cell_type": "markdown",
      "metadata": {
        "id": "GKSO40O6MsNg"
      },
      "source": [
        "Observe como ele não colocará mais 1 lá. Isso porque um conjunto apenas se ocupa de elementos exclusivos! Podemos transformar uma lista com múltiplos elementos repetidos para um conjunto para obter os elementos exclusivos. Por exemplo:"
      ]
    },
    {
      "cell_type": "code",
      "execution_count": null,
      "metadata": {
        "id": "1WS2GmWfMsNg"
      },
      "outputs": [],
      "source": [
        "# Cria uma lista com elementos repetidos\n",
        "l = [1,1,2,2,3,4,5,6,1,1]"
      ]
    },
    {
      "cell_type": "code",
      "execution_count": null,
      "metadata": {
        "id": "clq9o8MpMsNg"
      },
      "outputs": [],
      "source": [
        "# Transforma em um set com elementos únicos\n",
        "set(l)"
      ]
    },
    {
      "cell_type": "markdown",
      "metadata": {
        "id": "Wfk8932yMsNg"
      },
      "source": [
        "### Boleanos\n",
        "\n",
        "O Python possui também Booleanos (com True e False predefinidas que são basicamente apenas os números inteiros 1 e 0). Ele também possui um objeto reservado chamado None. \n",
        "\n",
        "Passemos por alguns exemplos rápidos de booleanos (vamos mergulhar mais profundamente neles mais tarde neste curso)."
      ]
    },
    {
      "cell_type": "code",
      "execution_count": null,
      "metadata": {
        "id": "2CAn6RuuMsNg"
      },
      "outputs": [],
      "source": [
        "# Define um objeto como True\n",
        "a = True\n",
        "print(a)"
      ]
    },
    {
      "cell_type": "markdown",
      "metadata": {
        "id": "eo5V9uLvMsNh"
      },
      "source": [
        "Também podemos usar operadores de comparação para criar booleanos. Examinaremos todos os operadores de comparação mais tarde no curso."
      ]
    },
    {
      "cell_type": "code",
      "execution_count": null,
      "metadata": {
        "id": "-sGOug6_MsNh"
      },
      "outputs": [],
      "source": [
        "# O output é boleano\n",
        "1 > 2"
      ]
    },
    {
      "cell_type": "markdown",
      "metadata": {
        "id": "OTGeOuQ4MsNh"
      },
      "source": [
        "Nós podemos usar None como um espaço reservado para um objeto que não queremos reatribuir ainda:"
      ]
    },
    {
      "cell_type": "code",
      "execution_count": null,
      "metadata": {
        "id": "sF9Yi2eQMsNh"
      },
      "outputs": [],
      "source": [
        "b = None"
      ]
    },
    {
      "cell_type": "markdown",
      "metadata": {
        "id": "Q_ShxJ0VMsNh"
      },
      "source": [
        "É isso aí! Agora você deve ter uma compreensão básica de objetos Python e tipos de estrutura de dados. Em seguida, vá em frente e faça o teste de avaliação!"
      ]
    },
    {
      "cell_type": "markdown",
      "metadata": {
        "id": "CHxalz3rMsNh"
      },
      "source": [
        "## Operadores de Comparação\n",
        "\n",
        "Nesta aula estaremos aprendendo sobre Operadores de Comparação em Python. Esses operadores nos permitirão comparar variáveis e produzir um valor booleano (Verdadeiro ou\n",
        "Falso).\n",
        "\n",
        "Se você tiver alguma base em Matemática, esses operadores devem ser muito diretos.\n",
        "\n",
        "Em primeiro lugar, apresentaremos uma tabela dos operadores de comparação e depois trabalharemos com alguns exemplos:\n",
        "\n",
        "### Tabela de operações de comparação\n",
        "\n",
        "|Operador  |Descrição   |Exemplo   |\n",
        "|---|---|---|\n",
        "|==   |se os valores de dois operadores forem iguais a condição se torna verdadeira   | (1==2) não é verdade   |\n",
        "|!=   |se os valores de dois operadores não forem iguais a condição torna-se verdadeira   | (1!=2) é verdadeiro  |\n",
        "|>   |se o valor do operando esquerdo for maior que o valor do operando direito, a condição é verdadeira  | 1>2 não é verdadeiro   |\n",
        "|<   |se o valor do operando esquerdo for menor que o valor do operando direito, a condição é verdadeira   | 1<2 é verdadeiro  |\n",
        "|>=   |se o valor do operando esquerdo for maior ou igual que o valor do operando direito, a condição é verdadeira   | 1>=2 não é verdadeiro  |\n",
        "|<=   |se o valor do operando esquerdo for menor ou igual que o valor do operando direito, a condição é verdadeira   | 1<=2 é verdadeiro  |\n",
        "\n",
        "Vamos verificar alguns exemplos:"
      ]
    },
    {
      "cell_type": "code",
      "execution_count": null,
      "metadata": {
        "id": "TSxNFEwbMsNh"
      },
      "outputs": [],
      "source": [
        "#igualdade\n",
        "2 == 2"
      ]
    },
    {
      "cell_type": "code",
      "execution_count": null,
      "metadata": {
        "id": "yx3S3wbuMsNi"
      },
      "outputs": [],
      "source": [
        "#igualdade\n",
        "1 == 0"
      ]
    },
    {
      "cell_type": "code",
      "execution_count": null,
      "metadata": {
        "id": "SjhRDsMUMsNi"
      },
      "outputs": [],
      "source": [
        "#desigualdade\n",
        "2 != 1"
      ]
    },
    {
      "cell_type": "code",
      "execution_count": null,
      "metadata": {
        "id": "5Z-apfRFMsNi"
      },
      "outputs": [],
      "source": [
        "#desigualdade\n",
        "2 != 2"
      ]
    },
    {
      "cell_type": "code",
      "execution_count": null,
      "metadata": {
        "id": "NYZP4XZpMsNi"
      },
      "outputs": [],
      "source": [
        "#maior que\n",
        "2 > 1"
      ]
    },
    {
      "cell_type": "code",
      "execution_count": null,
      "metadata": {
        "id": "483B2VbdMsNi"
      },
      "outputs": [],
      "source": [
        "#maior que\n",
        "2 > 4"
      ]
    },
    {
      "cell_type": "code",
      "execution_count": null,
      "metadata": {
        "id": "2kAzgfhkMsNi"
      },
      "outputs": [],
      "source": [
        "#menor que\n",
        "2 < 4"
      ]
    },
    {
      "cell_type": "code",
      "execution_count": null,
      "metadata": {
        "id": "3LqQh6vWMsNi"
      },
      "outputs": [],
      "source": [
        "#menor que\n",
        "2 < 1"
      ]
    },
    {
      "cell_type": "code",
      "execution_count": null,
      "metadata": {
        "id": "YER96p4AMsNj"
      },
      "outputs": [],
      "source": [
        "#maior igual que\n",
        "2 >= 2"
      ]
    },
    {
      "cell_type": "code",
      "execution_count": null,
      "metadata": {
        "id": "nYDtYKXQMsNj"
      },
      "outputs": [],
      "source": [
        "#maior igual que\n",
        "2 >= 1"
      ]
    },
    {
      "cell_type": "code",
      "execution_count": null,
      "metadata": {
        "id": "oYoUVb2uMsNj"
      },
      "outputs": [],
      "source": [
        "#menor igual que\n",
        "2 <= 2"
      ]
    },
    {
      "cell_type": "code",
      "execution_count": null,
      "metadata": {
        "id": "Qe0boA3yMsNj"
      },
      "outputs": [],
      "source": [
        "#menor igual que\n",
        "2 <= 4"
      ]
    },
    {
      "cell_type": "markdown",
      "metadata": {
        "id": "p_yq8MU9MsNj"
      },
      "source": [
        "## Operadores de Comparação em cadeia\n",
        "\n",
        "Uma característica interessante do Python é a capacidade de encadear comparações múltiplas para realizar um teste mais complexo. Você pode usar essas comparações em cadeia como uma abreviatura para expressões booleanas maiores. Nesta etapa, aprenderemos como encadear operadores de comparação e também apresentamos duas outras declarações importantes em python: and e or.\n",
        "\n",
        "### Tabela de operações de lógicos\n",
        "\n",
        "|Operador  |Descrição   |Exemplo   |\n",
        "|---|---|---|\n",
        "|not   | não   | not (a = 5)   |\n",
        "|and   | e   | (a <= 10) and (c = 5)  |\n",
        "|or | ou  | (a <= 10) or (c = 5)   |\n",
        "\n",
        "Vamos verificar alguns exemplos:\n",
        "\n",
        "No exemplo abaixo verifica-se se 1 é inferior a 2 e se 2 é inferior a 3. Poderiamos ter escrito utilizando a instrução \"and\" no python."
      ]
    },
    {
      "cell_type": "code",
      "execution_count": null,
      "metadata": {
        "id": "3UGWyABbMsNj"
      },
      "outputs": [],
      "source": [
        "#exemplo de cadeia de comparação\n",
        "1 < 2 < 3"
      ]
    },
    {
      "cell_type": "code",
      "execution_count": null,
      "metadata": {
        "id": "_ZBzrUCmMsNj"
      },
      "outputs": [],
      "source": [
        "#mesmo exemplo utilizando o \"and\"\n",
        "(1<2) and (2<3)"
      ]
    },
    {
      "cell_type": "markdown",
      "metadata": {
        "id": "HOI9TFSgMsNk"
      },
      "source": [
        "O and é usado para garantir que as duas verificações tenham que ser verdadeiras para que a verificação total seja verdadeira. Vamos ver outro exemplo:"
      ]
    },
    {
      "cell_type": "code",
      "execution_count": null,
      "metadata": {
        "id": "9lXvxf6EMsNk"
      },
      "outputs": [],
      "source": [
        "1 < 3 > 2"
      ]
    },
    {
      "cell_type": "markdown",
      "metadata": {
        "id": "wA-4zIq4MsNk"
      },
      "source": [
        "As verificações acima checam se 3 é maior do que os outros números. Você pode usar \"and\" para reescrevê-lo como:"
      ]
    },
    {
      "cell_type": "code",
      "execution_count": null,
      "metadata": {
        "id": "0qRAakNrMsNk"
      },
      "outputs": [],
      "source": [
        "1<3 and 3>2"
      ]
    },
    {
      "cell_type": "markdown",
      "metadata": {
        "id": "nva-OKzPMsNk"
      },
      "source": [
        "É importante notar que o Python está verificando ambas as instâncias das comparações. Nós também podemos usar \"or\" para escrever comparações em Python. Por exemplo:"
      ]
    },
    {
      "cell_type": "code",
      "execution_count": null,
      "metadata": {
        "id": "ohw8vwtvMsNk"
      },
      "outputs": [],
      "source": [
        "1==2 or 2<3"
      ]
    },
    {
      "cell_type": "markdown",
      "metadata": {
        "id": "BjyikJuLMsNk"
      },
      "source": [
        "Observe como a expressão retornou True porque com o operador ou precisamos apenas um ou os outros dois sejam verdadeiros. Outro exemplo:"
      ]
    },
    {
      "cell_type": "code",
      "execution_count": null,
      "metadata": {
        "id": "qTDT5swgMsNk"
      },
      "outputs": [],
      "source": [
        "1==1 or 100==1"
      ]
    },
    {
      "cell_type": "markdown",
      "metadata": {
        "id": "aj12WGYDMsNl"
      },
      "source": [
        "## If, elif e else\n",
        "\n",
        "If em Python nos permite contar ao computador para executar ações alternativas com base em um determinado conjunto de resultados. Verbalmente, podemos imaginar que estamos informando o computador:\n",
        "\n",
        "\"Ei, se isso caso acontecer, execute alguma ação\" Podemos então expandir a idéia com declarações elif e else, o que nos permite contar ao computador:\n",
        "\n",
        "\"Ei, se esse caso acontecer, execute alguma ação. Caso contrário, se aquilo dali acontecer, execute alguma outra ação. Caso contrário, nenhum dos casos acima aconteceu, execute esta ação\" \n",
        "\n",
        "Avançemos e vejamos o formato de sintaxe para as instruções if para ter uma idéia melhor disso:\n",
        "\n",
        "if case1: executar ação1 elif case2: execute ação2 else: execute a ação 3\n",
        "\n",
        "### Primeiro exemplo\n",
        "\n",
        "Vamos ver um exemplo rápido disso:"
      ]
    },
    {
      "cell_type": "code",
      "execution_count": null,
      "metadata": {
        "id": "Ivs5ykMoMsNl"
      },
      "outputs": [],
      "source": [
        "if True:\n",
        "    print('It was true!')"
      ]
    },
    {
      "cell_type": "markdown",
      "metadata": {
        "id": "UmlHAbBoMsNl"
      },
      "source": [
        "Vamos adicionar outra lógica!"
      ]
    },
    {
      "cell_type": "code",
      "execution_count": null,
      "metadata": {
        "id": "mG0Q4PjoMsNl"
      },
      "outputs": [],
      "source": [
        "x = False\n",
        "if x:\n",
        "    print('x was True!')\n",
        "else:\n",
        "    print('I will be printed in any case where x is not true')"
      ]
    },
    {
      "cell_type": "markdown",
      "metadata": {
        "id": "vFd-G5tzMsNl"
      },
      "source": [
        "### Múltiplos ramos\n",
        "\n",
        "Vamos ver de forma mais completa de quão longe if, elif, e else podem nos levar! Nós escrevemos isso em uma estrutura aninhada. Tome nota de como o if, elif e else se alinham no código. Isso pode ajudá-lo a ver o que se relaciona com o elif ou outras afirmações. Vamos reintroduzir uma sintaxe de comparação para o Python."
      ]
    },
    {
      "cell_type": "code",
      "execution_count": null,
      "metadata": {
        "id": "gKeMqO3DMsNl"
      },
      "outputs": [],
      "source": [
        "loc = 'Bank'\n",
        "if loc == 'Auto Shop':\n",
        "    print('Welcome to the Auto Shop!')\n",
        "elif loc == 'Bank':\n",
        "    print('Welcome to the bank!')\n",
        "else:\n",
        "    print(\"Where are you?\")"
      ]
    },
    {
      "cell_type": "markdown",
      "metadata": {
        "id": "f7Gad15pMsNl"
      },
      "source": [
        "Observe como as declarações if aninhadas são verificadas até que um booleano True faça com que o código aninhado abaixo seja executado. Você também deve notar que você pode colocar as declarações elif quanto desejar antes de fechar com outra. Vamos criar dois exemplos mais simples para as afirmações if, elif e else:"
      ]
    },
    {
      "cell_type": "code",
      "execution_count": null,
      "metadata": {
        "id": "T_-7wBshMsNm"
      },
      "outputs": [],
      "source": [
        "person = 'Sammy'\n",
        "if person == 'Sammy':\n",
        "    print('Welcome Sammy!')\n",
        "else:\n",
        "    print(\"Welcome, what's your name?\")"
      ]
    },
    {
      "cell_type": "code",
      "execution_count": null,
      "metadata": {
        "id": "iKcWOXlUMsNm"
      },
      "outputs": [],
      "source": [
        "person = 'George'\n",
        "if person == 'Sammy':\n",
        "    print('Welcome Sammy!')\n",
        "elif person =='George':\n",
        "    print(\"Welcome George!\")\n",
        "else:\n",
        "    print(\"Welcome, what's your name?\")"
      ]
    },
    {
      "cell_type": "markdown",
      "metadata": {
        "id": "tCy2VRdWMsNm"
      },
      "source": [
        "### Indentação - Novamente!!\n",
        "\n",
        "É importante manter uma boa compreensão de como o recuo funciona no Python para manter a estrutura e a ordem do seu código. Vamos voltar a tocar neste tópico quando começarmos a criar funções!"
      ]
    },
    {
      "cell_type": "markdown",
      "metadata": {
        "id": "FUkFff_XMsNm"
      },
      "source": [
        "## Função Range()\n",
        "\n",
        "Nesta aula curta estaremos discutindo a função range(). Ainda não desenvolvemos um nível muito profundo de conhecimento de funções, mas podemos entender o básico desta função simples (mas extremamente útil!). \n",
        "\n",
        "A função range() nos permite criar uma lista de números que variam de um ponto de partida até um ponto final. Também podemos especificar o tamanho do passo. Vamos percorrer alguns exemplos:"
      ]
    },
    {
      "cell_type": "code",
      "execution_count": null,
      "metadata": {
        "id": "5jo0Av73MsNm"
      },
      "outputs": [],
      "source": [
        "range(0,10)"
      ]
    },
    {
      "cell_type": "code",
      "execution_count": null,
      "metadata": {
        "id": "GsOiio4pMsNm"
      },
      "outputs": [],
      "source": [
        "x =range(0,10)\n",
        "type(x)"
      ]
    },
    {
      "cell_type": "code",
      "execution_count": null,
      "metadata": {
        "id": "iJy7Y7uxMsNn"
      },
      "outputs": [],
      "source": [
        "inicio_range = 0 #valor padrão de inicio de um range\n",
        "final_range = 20\n",
        "x = range(inicio_range,final_range)"
      ]
    },
    {
      "cell_type": "code",
      "execution_count": null,
      "metadata": {
        "id": "NkYCHaH0MsNn"
      },
      "outputs": [],
      "source": [
        "# transformando um range em uma lista para exibição dos valores gerados\n",
        "list(x)"
      ]
    },
    {
      "cell_type": "markdown",
      "metadata": {
        "id": "I-D_9vR0MsNn"
      },
      "source": [
        "Ótimo! Observe como foi até 20, mas na verdade não produz 20. Assim como na indexação.\n",
        "\n",
        "E o tamanho do passo? Podemos especificar isso como um terceiro argumento:"
      ]
    },
    {
      "cell_type": "code",
      "execution_count": null,
      "metadata": {
        "id": "pUDFANXRMsNn"
      },
      "outputs": [],
      "source": [
        "#gera um range que inicia no valor de inicio_range e finaliza no valor da variavel final_range contando de 2 em 2\n",
        "x = range(inicio_range,final_range,2)\n",
        "# Mostrar\n",
        "x"
      ]
    },
    {
      "cell_type": "markdown",
      "metadata": {
        "id": "YjwtIbfgMsNn"
      },
      "source": [
        "Impressionante! Bem, é isso ... ou não?\n",
        "\n",
        "Você pode estar se perguntando, o que acontece se eu quiser usar uma grande variedade de números? O meu computador pode armazenar tudo na memória?\n",
        "\n",
        "Grande pensamento! Este é um dilema que pode ser resolvido com o uso de um gerador. Para uma explicação simplificada: um gerador permite a geração de objetos gerados que são fornecidos naquela instância, mas não armazena cada instância gerada na memória.Isso significa que um gerador não criaria uma lista ao gerar um range(), mas, em vez disso, fornece uma geração única dos números nesse intervalo. A boa notítica é que range() se comporta como um gerador e você não precisa se preocupar com isso."
      ]
    },
    {
      "cell_type": "markdown",
      "metadata": {
        "id": "MxNYhe6kMsNo"
      },
      "source": [
        "## Laços\n",
        "\n",
        "### For\n",
        "\n",
        "Um loop for atua como um iterador em Python, ele passa por itens que estão em uma sequência ou qualquer outro item iterável. Os objetos que aprendemos até agora que podemos iterar incluem strings, listas, tuplas e até iteráveis embutidos em dicionários, como chaves ou valores.\n",
        "\n",
        "Já vimos for um pouco nas palestras passadas, mas agora permitimos formalizar a nossa\n",
        "compreensão. Aqui está o formato geral para um for loop em Python:\n",
        "\n",
        "for item in objeto: fazer algo\n",
        "\n",
        "O nome da variável usado para o item fica a seu critério, você pode escolher o que quiser. Então use seu melhor julgamento para escolher um nome que faça sentido e que você poderá entender ao revisar seu código. Este nome do item pode então ser referenciado dentro de seu loop, por exemplo, se você quisesse usar instruções if para executar verificações.\n",
        "\n",
        "Vamos seguir em frente e trabalhar com vários exemplos de for loops usando uma variedade de tipos de objetos de dados. Vamos começar com um exemplo simples e adicionar mais complexidade mais além.\n",
        "\n",
        "Exemplo 1\n",
        "Iterando através de uma lista."
      ]
    },
    {
      "cell_type": "code",
      "execution_count": null,
      "metadata": {
        "id": "BqyOHyStMsNo"
      },
      "outputs": [],
      "source": [
        "#dado uma lista\n",
        "l = [1,2,3,4,5,6,7,8,9,10]\n",
        "#percorra a lista com um for\n",
        "for num in l:\n",
        "    print(num)"
      ]
    },
    {
      "cell_type": "markdown",
      "metadata": {
        "id": "mSCS4GrKMsNo"
      },
      "source": [
        "Agora vamos substituir a lista por um range, lembrando que a função range gera uma faixa de valores."
      ]
    },
    {
      "cell_type": "code",
      "execution_count": null,
      "metadata": {
        "id": "OtFDMPiYMsNo"
      },
      "outputs": [],
      "source": [
        "#percorra a range com um for, para gerarmos a mesma saída do exemplo anterior temos que nos lembrar que a faixa final do range não está inclusa na contagem.\n",
        "for num in range(1,11):\n",
        "    print(num)"
      ]
    },
    {
      "cell_type": "markdown",
      "metadata": {
        "id": "waeB41AMMsNo"
      },
      "source": [
        "Agora vamos combinar com a função if para verificar os números pares em uma sequência.\n",
        "\n",
        "Para isso devemos calcular o módulo (resto da divisão), veja o exemplo:"
      ]
    },
    {
      "cell_type": "code",
      "execution_count": null,
      "metadata": {
        "id": "VyyC8buBMsNo"
      },
      "outputs": [],
      "source": [
        "17 % 3 #número impar temos resto"
      ]
    },
    {
      "cell_type": "code",
      "execution_count": null,
      "metadata": {
        "id": "YmUHjlHfMsNo"
      },
      "outputs": [],
      "source": [
        "12 % 4 #número par sem resto na divisão"
      ]
    },
    {
      "cell_type": "markdown",
      "metadata": {
        "id": "A2oVcinpMsNp"
      },
      "source": [
        "Observe que se um número é totalmente divisível sem restante, o resultado do módulo é 0. Podemos usar isso para testar números pares, pois se um número nódulo 2 for igual a 0, isso significa que é um número par! Volte para o for!\n",
        "\n",
        "Então vamos imprimir apenas os números pares de uma sequência."
      ]
    },
    {
      "cell_type": "code",
      "execution_count": null,
      "metadata": {
        "id": "jhZcg7U_MsNp"
      },
      "outputs": [],
      "source": [
        "#imprimindo os números pares de uma sequencia.\n",
        "for num in range(1,21):\n",
        "    if num%2 == 0:\n",
        "        print(num)"
      ]
    },
    {
      "cell_type": "code",
      "execution_count": null,
      "metadata": {
        "id": "J0sAFMWFMsNp"
      },
      "outputs": [],
      "source": [
        "#podemos também utilizar o elif\n",
        "for num in range(1,21):\n",
        "    if num%2 == 0:\n",
        "        print(\"Par : {}\".format(num))\n",
        "    else:\n",
        "        print(\"Impar : {}\".format(num))\n"
      ]
    },
    {
      "cell_type": "markdown",
      "metadata": {
        "id": "-MRS_1xXMsNp"
      },
      "source": [
        "Outra idéia comum durante um for é manter algum tipo de contagem durante os vários loops. Por exemplo, vamos criar um loop for que resume a lista:"
      ]
    },
    {
      "cell_type": "code",
      "execution_count": null,
      "metadata": {
        "id": "d0-P7DOMMsNp"
      },
      "outputs": [],
      "source": [
        "range_sum = 0\n",
        "for num in range(1,21):\n",
        "    range_sum = range_sum + num\n",
        "print(\"soma --> {}\".format(range_sum))"
      ]
    },
    {
      "cell_type": "markdown",
      "metadata": {
        "id": "uOmxwWkoMsNp"
      },
      "source": [
        "A acumulação dos valores também pode ser realizada utilizando o operador \"+=\""
      ]
    },
    {
      "cell_type": "code",
      "execution_count": null,
      "metadata": {
        "id": "6fVRVAO_MsNp"
      },
      "outputs": [],
      "source": [
        "range_sum = 0\n",
        "for num in range(1,21):\n",
        "    range_sum += num #observe a diferença nesta linha em relação ao ex. anterior\n",
        "print(\"soma --> {}\".format(range_sum))"
      ]
    },
    {
      "cell_type": "markdown",
      "metadata": {
        "id": "tDjachaYMsNq"
      },
      "source": [
        "Nós usamos para loops com listas, e as strings? Lembre-se de que as strings são uma seqüência, então, quando iteramos através delas, estaremos acessando cada item nessa seqüência de caracteres."
      ]
    },
    {
      "cell_type": "code",
      "execution_count": null,
      "metadata": {
        "id": "dTMvdmTsMsNq"
      },
      "outputs": [],
      "source": [
        "for letter in 'This is a string.':\n",
        "    print(letter)"
      ]
    },
    {
      "cell_type": "markdown",
      "metadata": {
        "id": "RTEheoTGMsNq"
      },
      "source": [
        "E as tuplas?"
      ]
    },
    {
      "cell_type": "code",
      "execution_count": null,
      "metadata": {
        "id": "3EUVIBJ2MsNq"
      },
      "outputs": [],
      "source": [
        "tup = (1,2,3,4,5)\n",
        "for t in tup:\n",
        "    print(t)"
      ]
    },
    {
      "cell_type": "markdown",
      "metadata": {
        "id": "1WzhjDOJMsNq"
      },
      "source": [
        "As Tuplas têm uma qualidade especial quando se trata de fors. Se você está iterando através de uma seqüência que contém tuplas, o item pode realmente ser a própria tupla, este é um exemplo de desembalagem de tuplas . Durante o for, estaremos desembalando a tupla dentro de uma seqüência e podemos acessar os itens individuais dentro dessa tupla!"
      ]
    },
    {
      "cell_type": "code",
      "execution_count": null,
      "metadata": {
        "id": "_ibsLbkxMsNq"
      },
      "outputs": [],
      "source": [
        "l = [(2,4),(6,8),(10,12)]\n",
        "for tup in l:\n",
        "    print(tup)"
      ]
    },
    {
      "cell_type": "code",
      "execution_count": null,
      "metadata": {
        "id": "e8VcObAUMsNq"
      },
      "outputs": [],
      "source": [
        "for (t1,t2) in l:\n",
        "    print(t1)\n",
        "    "
      ]
    },
    {
      "cell_type": "markdown",
      "metadata": {
        "id": "NDILf_JdMsNr"
      },
      "source": [
        "Legal! Com as tuplas em uma seqüência, podemos acessar os itens dentro deles por meio de desembalagem! A razão pela qual isso é importante é porque muitos objetos entregarão seus iterables através de tuplas. Vamos começar a explorar a iteração através de Dictionaries para explorar isso ainda mais!"
      ]
    },
    {
      "cell_type": "code",
      "execution_count": null,
      "metadata": {
        "id": "wVr1F-ACMsNr"
      },
      "outputs": [],
      "source": [
        "#dado o dicionario d\n",
        "d = {'k1':1,'k2':2,'k3':3}\n",
        "\n",
        "#percorrendo os itens\n",
        "for item in d:\n",
        "    print(item)"
      ]
    },
    {
      "cell_type": "markdown",
      "metadata": {
        "id": "jUO1PBdtMsNr"
      },
      "source": [
        "Observe como isso produz apenas chaves. Então, como podemos obter os valores? Ou as chaves e os valores?\n",
        "\n",
        "#### Itens() \n",
        "\n",
        "Você deve usar \".items()\" para iterar através das chaves e valores de um dicionário. Por exemplo:\n"
      ]
    },
    {
      "cell_type": "code",
      "execution_count": null,
      "metadata": {
        "id": "gtZfwD1IMsNr"
      },
      "outputs": [],
      "source": [
        "# For Python 3\n",
        "for k,v in d.items():\n",
        "    print(k)\n",
        "    print(v)"
      ]
    },
    {
      "cell_type": "markdown",
      "metadata": {
        "id": "uRvQgAiHMsNr"
      },
      "source": [
        "Aprendemos a usar para loops para iterar através de tuplas, listas, strings e dicionários. Será uma ferramenta importante para nós, portanto, certifique-se de conhecê-lo bem e compreende os exemplos acima.\n",
        "\n",
        "## While\n",
        "\n",
        "A instrução while em Python é uma das formas mais gerais de executar iterações. Uma instrução while executará repetidamente uma única declaração ou grupo de instruções, desde que a condição seja verdadeira. A razão pela qual é chamado de \"loop\" é porque as instruções de código são roteadas repetidamente até que a condição não seja mais atendida.\n",
        "\n",
        "O formato geral de um loop while é: \n",
        "\n",
        "while teste: declaração de código \n",
        "\n",
        "else: declarações de código final\n",
        "\n",
        "Olhemos alguns simples do while em ação.\n"
      ]
    },
    {
      "cell_type": "code",
      "execution_count": null,
      "metadata": {
        "id": "muCqabHJMsNr"
      },
      "outputs": [],
      "source": [
        "x = 0\n",
        "while x < 10:\n",
        "    print('x is currently: ', x)\n",
        "    print(' x is still less than 10, adding 1 to x')\n",
        "    x += 1"
      ]
    },
    {
      "cell_type": "markdown",
      "metadata": {
        "id": "dzElnQ1XMsNr"
      },
      "source": [
        "Observe quantas vezes as declarações de impressão ocorreram e como o while continuou até a condição True deixasse de ser verdadeira, que ocorreu após x == 10. É importante notar que, uma vez que isso ocorreu, o código parou. Vamos ver como podemos adicionar uma outra afirmação:"
      ]
    },
    {
      "cell_type": "code",
      "execution_count": null,
      "metadata": {
        "id": "IW6ERTW7MsNs"
      },
      "outputs": [],
      "source": [
        "x = 0\n",
        "while x < 10:\n",
        "    print('x is currently: ',x)\n",
        "    print(' x is still less than 10, adding 1 to x')\n",
        "    x+=1\n",
        "else:\n",
        "    print('All Done!')"
      ]
    },
    {
      "cell_type": "markdown",
      "metadata": {
        "id": "Igsa8-jOMsNs"
      },
      "source": [
        "#### break, continue, pass\n",
        "\n",
        "Podemos usar as declarações break, continue e pass em nossos loops para adicionar funcionalidades adicionais para vários casos. As três declarações são definidas por:\n",
        "\n",
        "break: Para o loop continue: Vai para o próximo loop \n",
        "\n",
        "pass: Não faz nada \n",
        "\n",
        "Pensando nas declarações break e continue, o formato geral do loop while se parece com isto:\n",
        "\n",
        "while test: código \n",
        "\n",
        "if test: break \n",
        "if test: continue else:\n",
        "\n",
        "Vamos ver alguns exemplos!"
      ]
    },
    {
      "cell_type": "code",
      "execution_count": null,
      "metadata": {
        "id": "5iqM1d8lMsNs"
      },
      "outputs": [],
      "source": [
        "x = 0\n",
        "while x < 10:\n",
        "    rint('x is currently: ', x)\n",
        "    print(' x is still less than 10, adding 1 to x')\n",
        "    x+=1\n",
        "    if x==3:\n",
        "        print('x==3')\n",
        "    else:\n",
        "        print('continuing...')\n",
        "        continue"
      ]
    },
    {
      "cell_type": "markdown",
      "metadata": {
        "id": "nO8_cPJCMsNs"
      },
      "source": [
        "Observe como temos uma declaração impressa quando x == 3 e continuamos imprimindo enquanto continuamos através do while. Vamos fazer uma pausa uma vez x == 3 e ver se o resultado faz sentido:"
      ]
    },
    {
      "cell_type": "code",
      "execution_count": null,
      "metadata": {
        "id": "mbXkckqjMsNs"
      },
      "outputs": [],
      "source": [
        "x = 0\n",
        "while x < 10:\n",
        "    print('x is currently: ',x)\n",
        "    print(' x is still less than 10, adding 1 to x')\n",
        "    x+=1\n",
        "    if x ==3:\n",
        "        print('Breaking because x==3')\n",
        "        break\n",
        "    else:\n",
        "        print('continuing...')\n",
        "    continue"
      ]
    },
    {
      "cell_type": "markdown",
      "metadata": {
        "id": "8Ui9dej3MsNs"
      },
      "source": [
        "**Uma observação importante! É possível criar um ciclo de execução infinita com instruções while. Por exemplo:**\n",
        "\n",
        "**NÃO RODE O CÓDIGO ABAIXO**"
      ]
    },
    {
      "cell_type": "code",
      "execution_count": null,
      "metadata": {
        "id": "cZyzKJMrMsNs"
      },
      "outputs": [],
      "source": [
        "# NÃO RODE ESTE CÓDIGO!\n",
        "while True:\n",
        "    print('Uh Oh infinite Loop!')"
      ]
    },
    {
      "cell_type": "markdown",
      "metadata": {
        "id": "Q37Rlle6MsNt"
      },
      "source": []
    }
  ],
  "metadata": {
    "kernelspec": {
      "display_name": "base",
      "language": "python",
      "name": "python3"
    },
    "language_info": {
      "codemirror_mode": {
        "name": "ipython",
        "version": 3
      },
      "file_extension": ".py",
      "mimetype": "text/x-python",
      "name": "python",
      "nbconvert_exporter": "python",
      "pygments_lexer": "ipython3",
      "version": "3.9.13"
    },
    "orig_nbformat": 4,
    "vscode": {
      "interpreter": {
        "hash": "0fda60eb319fac8ebfcb14c2fbc9a4c8b1cdf0fbb0837cf486a0f7cad639c07e"
      }
    },
    "colab": {
      "provenance": []
    }
  },
  "nbformat": 4,
  "nbformat_minor": 0
}